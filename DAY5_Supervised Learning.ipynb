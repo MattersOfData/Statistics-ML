{
 "cells": [
  {
   "cell_type": "code",
   "execution_count": 1,
   "id": "28d1a109",
   "metadata": {
    "scrolled": true
   },
   "outputs": [
    {
     "name": "stdout",
     "output_type": "stream",
     "text": [
      "Requirement already satisfied: sklearn in c:\\users\\miyoung\\anaconda3\\lib\\site-packages (0.0.post1)\n",
      "Note: you may need to restart the kernel to use updated packages.\n"
     ]
    }
   ],
   "source": [
    "pip install sklearn"
   ]
  },
  {
   "cell_type": "markdown",
   "id": "de120a7e",
   "metadata": {},
   "source": [
    "## 1. k최근접 이웃"
   ]
  },
  {
   "cell_type": "code",
   "execution_count": 2,
   "id": "c82948e7",
   "metadata": {},
   "outputs": [
    {
     "data": {
      "text/html": [
       "<div>\n",
       "<style scoped>\n",
       "    .dataframe tbody tr th:only-of-type {\n",
       "        vertical-align: middle;\n",
       "    }\n",
       "\n",
       "    .dataframe tbody tr th {\n",
       "        vertical-align: top;\n",
       "    }\n",
       "\n",
       "    .dataframe thead th {\n",
       "        text-align: right;\n",
       "    }\n",
       "</style>\n",
       "<table border=\"1\" class=\"dataframe\">\n",
       "  <thead>\n",
       "    <tr style=\"text-align: right;\">\n",
       "      <th></th>\n",
       "      <th>sepal_length</th>\n",
       "      <th>sepal_width</th>\n",
       "      <th>petal_length</th>\n",
       "      <th>petal_width</th>\n",
       "      <th>class</th>\n",
       "    </tr>\n",
       "  </thead>\n",
       "  <tbody>\n",
       "    <tr>\n",
       "      <th>0</th>\n",
       "      <td>5.1</td>\n",
       "      <td>3.5</td>\n",
       "      <td>1.4</td>\n",
       "      <td>0.2</td>\n",
       "      <td>0</td>\n",
       "    </tr>\n",
       "    <tr>\n",
       "      <th>1</th>\n",
       "      <td>4.9</td>\n",
       "      <td>3.0</td>\n",
       "      <td>1.4</td>\n",
       "      <td>0.2</td>\n",
       "      <td>0</td>\n",
       "    </tr>\n",
       "    <tr>\n",
       "      <th>2</th>\n",
       "      <td>4.7</td>\n",
       "      <td>3.2</td>\n",
       "      <td>1.3</td>\n",
       "      <td>0.2</td>\n",
       "      <td>0</td>\n",
       "    </tr>\n",
       "    <tr>\n",
       "      <th>3</th>\n",
       "      <td>4.6</td>\n",
       "      <td>3.1</td>\n",
       "      <td>1.5</td>\n",
       "      <td>0.2</td>\n",
       "      <td>0</td>\n",
       "    </tr>\n",
       "    <tr>\n",
       "      <th>4</th>\n",
       "      <td>5.0</td>\n",
       "      <td>3.6</td>\n",
       "      <td>1.4</td>\n",
       "      <td>0.2</td>\n",
       "      <td>0</td>\n",
       "    </tr>\n",
       "    <tr>\n",
       "      <th>...</th>\n",
       "      <td>...</td>\n",
       "      <td>...</td>\n",
       "      <td>...</td>\n",
       "      <td>...</td>\n",
       "      <td>...</td>\n",
       "    </tr>\n",
       "    <tr>\n",
       "      <th>145</th>\n",
       "      <td>6.7</td>\n",
       "      <td>3.0</td>\n",
       "      <td>5.2</td>\n",
       "      <td>2.3</td>\n",
       "      <td>2</td>\n",
       "    </tr>\n",
       "    <tr>\n",
       "      <th>146</th>\n",
       "      <td>6.3</td>\n",
       "      <td>2.5</td>\n",
       "      <td>5.0</td>\n",
       "      <td>1.9</td>\n",
       "      <td>2</td>\n",
       "    </tr>\n",
       "    <tr>\n",
       "      <th>147</th>\n",
       "      <td>6.5</td>\n",
       "      <td>3.0</td>\n",
       "      <td>5.2</td>\n",
       "      <td>2.0</td>\n",
       "      <td>2</td>\n",
       "    </tr>\n",
       "    <tr>\n",
       "      <th>148</th>\n",
       "      <td>6.2</td>\n",
       "      <td>3.4</td>\n",
       "      <td>5.4</td>\n",
       "      <td>2.3</td>\n",
       "      <td>2</td>\n",
       "    </tr>\n",
       "    <tr>\n",
       "      <th>149</th>\n",
       "      <td>5.9</td>\n",
       "      <td>3.0</td>\n",
       "      <td>5.1</td>\n",
       "      <td>1.8</td>\n",
       "      <td>2</td>\n",
       "    </tr>\n",
       "  </tbody>\n",
       "</table>\n",
       "<p>150 rows × 5 columns</p>\n",
       "</div>"
      ],
      "text/plain": [
       "     sepal_length  sepal_width  petal_length  petal_width  class\n",
       "0             5.1          3.5           1.4          0.2      0\n",
       "1             4.9          3.0           1.4          0.2      0\n",
       "2             4.7          3.2           1.3          0.2      0\n",
       "3             4.6          3.1           1.5          0.2      0\n",
       "4             5.0          3.6           1.4          0.2      0\n",
       "..            ...          ...           ...          ...    ...\n",
       "145           6.7          3.0           5.2          2.3      2\n",
       "146           6.3          2.5           5.0          1.9      2\n",
       "147           6.5          3.0           5.2          2.0      2\n",
       "148           6.2          3.4           5.4          2.3      2\n",
       "149           5.9          3.0           5.1          1.8      2\n",
       "\n",
       "[150 rows x 5 columns]"
      ]
     },
     "execution_count": 2,
     "metadata": {},
     "output_type": "execute_result"
    }
   ],
   "source": [
    "import pandas as pd\n",
    "df= pd.read_csv(\"iris.csv\")\n",
    "df"
   ]
  },
  {
   "cell_type": "code",
   "execution_count": 3,
   "id": "51fa2a4b",
   "metadata": {},
   "outputs": [],
   "source": [
    "#피처와 타겟으로 나누기\n",
    "features = ['sepal_length','sepal_width','petal_length','petal_width']\n",
    "\n",
    "## 타겟 여부 확인 후 -> 지도학습 OR 비지도학습인지 확인 !!\n",
    "# sepal_length ~ petal_width : 피처\n",
    "# class : 타겟"
   ]
  },
  {
   "cell_type": "code",
   "execution_count": 4,
   "id": "b187a605",
   "metadata": {},
   "outputs": [
    {
     "data": {
      "text/plain": [
       "0      0\n",
       "1      0\n",
       "2      0\n",
       "3      0\n",
       "4      0\n",
       "      ..\n",
       "145    2\n",
       "146    2\n",
       "147    2\n",
       "148    2\n",
       "149    2\n",
       "Name: class, Length: 150, dtype: int64"
      ]
     },
     "execution_count": 4,
     "metadata": {},
     "output_type": "execute_result"
    }
   ],
   "source": [
    "X = df[features] ## 행렬(대문자볼드)\n",
    "\n",
    "y = df['class'] ## 백터(스칼라)(소문자볼드)\n",
    "\n",
    "X\n",
    "y"
   ]
  },
  {
   "cell_type": "markdown",
   "id": "19115604",
   "metadata": {},
   "source": [
    "### 1) 트레이닝/테스트 데이터 분할"
   ]
  },
  {
   "cell_type": "code",
   "execution_count": 5,
   "id": "d8ccfe01",
   "metadata": {},
   "outputs": [],
   "source": [
    "from sklearn.model_selection import train_test_split # train과 test 데이터 나눠주는 함수 \n",
    "X_tn,X_te,y_tn,y_te=train_test_split(X,y,random_state=0)\n",
    "\n",
    "# tn = training , te = test\n",
    "# 트레이닝, 테스트 데이터 분할할때,컴퓨터가 데이터가 랜덤으로 트레이닝 혹은 테스트 분류하는데,데이터들이 어디에 들어갈지 데이터 고정시켜주기!\n",
    "# 코드 돌릴때마다 매번 바뀌는 거 방지해서 성능평가(결과)했을때 accuracy 동일하게 !\n",
    "# 테스트 데이터 동일하게 셋팅해주기 : random_State=0 (random seed라고 많이 쓰기도 함)(숫자는 상관없음)"
   ]
  },
  {
   "cell_type": "markdown",
   "id": "a8080a44",
   "metadata": {},
   "source": [
    "### 2) 데이터 표준화\n",
    "- 데이터 평균 = 0 , 분산 = 1 로 조정 -> 데이터의 크기를 비슷하게 하기 위해서\n",
    "- 표준화작업은 X(피처만) 진행"
   ]
  },
  {
   "cell_type": "code",
   "execution_count": 11,
   "id": "4ea56bcc",
   "metadata": {},
   "outputs": [],
   "source": [
    "from sklearn.preprocessing import StandardScaler\n",
    "std_scale = StandardScaler() # 표준화해주는 scaler(std_scale) 생성\n",
    "std_scale.fit(X_tn) # X_training 데이터에 평균 = 0, 분산 = 1로 만들게끔 피팅(조정)\n",
    "\n",
    "# training 데이터만 피팅 하는 이유? 학습전에는 text 데이터 손대면 안됨!\n",
    "# 피팅 = 학습 시키는 메서드\n",
    "\n",
    "X_tn_std = std_scale.transform(X_tn) # X_training을 평균=0, 분산 = 1로 데이터 변환\n",
    "X_te_std = std_scale.transform(X_te) # X_test을 평균=0, 분산 = 1로 데이터 변환\n",
    "#위의 두 값은 추후 에측을 위한 값이기에, transform 은 training & text 값 둘다 함 !\n",
    "#실제로 학습시킨 것을 적용하는 메서드\n"
   ]
  },
  {
   "cell_type": "markdown",
   "id": "d4238a36",
   "metadata": {},
   "source": [
    "### 3) 방법\n",
    "- 항상 다양한 방법들에 대해 open mind !"
   ]
  },
  {
   "cell_type": "markdown",
   "id": "17ef3879",
   "metadata": {},
   "source": [
    "a) 학습\n",
    "- 하기 다양한 방법 중에 어떤 거 선택할지는 팀원들분과 상의해서 결정"
   ]
  },
  {
   "cell_type": "code",
   "execution_count": 122,
   "id": "03fc7884",
   "metadata": {},
   "outputs": [
    {
     "data": {
      "text/plain": [
       "KNeighborsClassifier(n_neighbors=2)"
      ]
     },
     "execution_count": 122,
     "metadata": {},
     "output_type": "execute_result"
    }
   ],
   "source": [
    "from sklearn.neighbors import KNeighborsClassifier\n",
    "clf_knn = KNeighborsClassifier(n_neighbors=2)\n",
    "clf_knn.fit(X_tn_std,y_tn)"
   ]
  },
  {
   "cell_type": "markdown",
   "id": "acfc653d",
   "metadata": {},
   "source": [
    "## 1. k 최근접 이웃 알고리즘\n",
    "- 여러개의 k를 비교후에, \n",
    "- 최고의 k 뽑고 싶을때 validation 를 넣어서 해당 값을 확인 -> 이후에 테스트 데이터에 넣어서 확인 ! \n",
    "- 파라미터를 정하는 역할 "
   ]
  },
  {
   "cell_type": "markdown",
   "id": "dad393b1",
   "metadata": {},
   "source": [
    "b) 예측"
   ]
  },
  {
   "cell_type": "code",
   "execution_count": 123,
   "id": "a6a769c1",
   "metadata": {},
   "outputs": [
    {
     "name": "stdout",
     "output_type": "stream",
     "text": [
      "[2 1 0 2 0 2 0 1 1 1 1 1 1 1 1 0 1 1 0 0 2 1 0 0 2 0 0 1 1 0 2 1 0 2 2 1 0\n",
      " 2]\n"
     ]
    }
   ],
   "source": [
    "knn_pred = clf_knn.predict(X_te_std)\n",
    "print(knn_pred)"
   ]
  },
  {
   "cell_type": "markdown",
   "id": "11377e9b",
   "metadata": {},
   "source": [
    "c) 정확도"
   ]
  },
  {
   "cell_type": "code",
   "execution_count": 124,
   "id": "83b4666a",
   "metadata": {},
   "outputs": [
    {
     "name": "stdout",
     "output_type": "stream",
     "text": [
      "0.9473684210526315\n"
     ]
    }
   ],
   "source": [
    "from sklearn.metrics import accuracy_score\n",
    "accuracy = accuracy_score(y_te,knn_pred)\n",
    "print(accuracy)"
   ]
  },
  {
   "cell_type": "markdown",
   "id": "5744b5c2",
   "metadata": {},
   "source": [
    "d) 정밀도"
   ]
  },
  {
   "cell_type": "code",
   "execution_count": 20,
   "id": "7c351fe3",
   "metadata": {},
   "outputs": [
    {
     "name": "stdout",
     "output_type": "stream",
     "text": [
      "0.9421296296296297\n"
     ]
    }
   ],
   "source": [
    "from sklearn.metrics import precision_score\n",
    "precision = precision_score(y_te,knn_pred,average = 'macro')\n",
    "print(precision)\n",
    "#전체 클래스에 대한 정확도 = macro avg"
   ]
  },
  {
   "cell_type": "markdown",
   "id": "b0527d8e",
   "metadata": {},
   "source": [
    "e) 리콜"
   ]
  },
  {
   "cell_type": "code",
   "execution_count": 22,
   "id": "6c6ed4dc",
   "metadata": {},
   "outputs": [
    {
     "name": "stdout",
     "output_type": "stream",
     "text": [
      "0.9421296296296297\n"
     ]
    }
   ],
   "source": [
    "from sklearn.metrics import recall_score\n",
    "recall = recall_score(y_te,knn_pred, average='macro')\n",
    "print(recall)"
   ]
  },
  {
   "cell_type": "markdown",
   "id": "8076c78a",
   "metadata": {},
   "source": [
    "f) F1 스코어"
   ]
  },
  {
   "cell_type": "code",
   "execution_count": 24,
   "id": "d156742c",
   "metadata": {},
   "outputs": [
    {
     "name": "stdout",
     "output_type": "stream",
     "text": [
      "0.9421296296296297\n"
     ]
    }
   ],
   "source": [
    "from sklearn.metrics import f1_score\n",
    "f1 = f1_score(y_te,knn_pred, average='macro')\n",
    "print(f1)"
   ]
  },
  {
   "cell_type": "markdown",
   "id": "a9a04401",
   "metadata": {},
   "source": [
    "g) confusion matrix 확인"
   ]
  },
  {
   "cell_type": "code",
   "execution_count": 27,
   "id": "c1287307",
   "metadata": {},
   "outputs": [
    {
     "name": "stdout",
     "output_type": "stream",
     "text": [
      "[[13  0  0]\n",
      " [ 0 15  1]\n",
      " [ 0  1  8]]\n"
     ]
    }
   ],
   "source": [
    "from sklearn.metrics import confusion_matrix\n",
    "conf_matrix= confusion_matrix(y_te,knn_pred)\n",
    "print(conf_matrix)"
   ]
  },
  {
   "cell_type": "markdown",
   "id": "06204583",
   "metadata": {},
   "source": [
    "### 분류 레포트 확인"
   ]
  },
  {
   "cell_type": "code",
   "execution_count": 125,
   "id": "4b20c1b6",
   "metadata": {},
   "outputs": [
    {
     "name": "stdout",
     "output_type": "stream",
     "text": [
      "              precision    recall  f1-score   support\n",
      "\n",
      "           0       1.00      1.00      1.00        13\n",
      "           1       0.94      0.94      0.94        16\n",
      "           2       0.89      0.89      0.89         9\n",
      "\n",
      "    accuracy                           0.95        38\n",
      "   macro avg       0.94      0.94      0.94        38\n",
      "weighted avg       0.95      0.95      0.95        38\n",
      "\n"
     ]
    }
   ],
   "source": [
    "from sklearn.metrics import classification_report\n",
    "class_report = classification_report(y_te,knn_pred)\n",
    "print(class_report)"
   ]
  },
  {
   "cell_type": "markdown",
   "id": "a695d171",
   "metadata": {},
   "source": [
    "## 2.선형회귀분석"
   ]
  },
  {
   "cell_type": "code",
   "execution_count": 126,
   "id": "929948cc",
   "metadata": {},
   "outputs": [
    {
     "data": {
      "text/html": [
       "<div>\n",
       "<style scoped>\n",
       "    .dataframe tbody tr th:only-of-type {\n",
       "        vertical-align: middle;\n",
       "    }\n",
       "\n",
       "    .dataframe tbody tr th {\n",
       "        vertical-align: top;\n",
       "    }\n",
       "\n",
       "    .dataframe thead th {\n",
       "        text-align: right;\n",
       "    }\n",
       "</style>\n",
       "<table border=\"1\" class=\"dataframe\">\n",
       "  <thead>\n",
       "    <tr style=\"text-align: right;\">\n",
       "      <th></th>\n",
       "      <th>CRIM</th>\n",
       "      <th>ZN</th>\n",
       "      <th>INDUS</th>\n",
       "      <th>CHAS</th>\n",
       "      <th>NOX</th>\n",
       "      <th>RM</th>\n",
       "      <th>AGE</th>\n",
       "      <th>DIS</th>\n",
       "      <th>RAD</th>\n",
       "      <th>TAX</th>\n",
       "      <th>PTRATIO</th>\n",
       "      <th>B</th>\n",
       "      <th>LSTAT</th>\n",
       "      <th>MEDV</th>\n",
       "    </tr>\n",
       "  </thead>\n",
       "  <tbody>\n",
       "    <tr>\n",
       "      <th>0</th>\n",
       "      <td>0.00632</td>\n",
       "      <td>18.0</td>\n",
       "      <td>2.31</td>\n",
       "      <td>0</td>\n",
       "      <td>0.538</td>\n",
       "      <td>6.575</td>\n",
       "      <td>65.2</td>\n",
       "      <td>4.0900</td>\n",
       "      <td>1</td>\n",
       "      <td>296</td>\n",
       "      <td>15.3</td>\n",
       "      <td>396.90</td>\n",
       "      <td>4.98</td>\n",
       "      <td>24.0</td>\n",
       "    </tr>\n",
       "    <tr>\n",
       "      <th>1</th>\n",
       "      <td>0.02731</td>\n",
       "      <td>0.0</td>\n",
       "      <td>7.07</td>\n",
       "      <td>0</td>\n",
       "      <td>0.469</td>\n",
       "      <td>6.421</td>\n",
       "      <td>78.9</td>\n",
       "      <td>4.9671</td>\n",
       "      <td>2</td>\n",
       "      <td>242</td>\n",
       "      <td>17.8</td>\n",
       "      <td>396.90</td>\n",
       "      <td>9.14</td>\n",
       "      <td>21.6</td>\n",
       "    </tr>\n",
       "    <tr>\n",
       "      <th>2</th>\n",
       "      <td>0.02729</td>\n",
       "      <td>0.0</td>\n",
       "      <td>7.07</td>\n",
       "      <td>0</td>\n",
       "      <td>0.469</td>\n",
       "      <td>7.185</td>\n",
       "      <td>61.1</td>\n",
       "      <td>4.9671</td>\n",
       "      <td>2</td>\n",
       "      <td>242</td>\n",
       "      <td>17.8</td>\n",
       "      <td>392.83</td>\n",
       "      <td>4.03</td>\n",
       "      <td>34.7</td>\n",
       "    </tr>\n",
       "    <tr>\n",
       "      <th>3</th>\n",
       "      <td>0.03237</td>\n",
       "      <td>0.0</td>\n",
       "      <td>2.18</td>\n",
       "      <td>0</td>\n",
       "      <td>0.458</td>\n",
       "      <td>6.998</td>\n",
       "      <td>45.8</td>\n",
       "      <td>6.0622</td>\n",
       "      <td>3</td>\n",
       "      <td>222</td>\n",
       "      <td>18.7</td>\n",
       "      <td>394.63</td>\n",
       "      <td>2.94</td>\n",
       "      <td>33.4</td>\n",
       "    </tr>\n",
       "    <tr>\n",
       "      <th>4</th>\n",
       "      <td>0.06905</td>\n",
       "      <td>0.0</td>\n",
       "      <td>2.18</td>\n",
       "      <td>0</td>\n",
       "      <td>0.458</td>\n",
       "      <td>7.147</td>\n",
       "      <td>54.2</td>\n",
       "      <td>6.0622</td>\n",
       "      <td>3</td>\n",
       "      <td>222</td>\n",
       "      <td>18.7</td>\n",
       "      <td>396.90</td>\n",
       "      <td>5.33</td>\n",
       "      <td>36.2</td>\n",
       "    </tr>\n",
       "    <tr>\n",
       "      <th>...</th>\n",
       "      <td>...</td>\n",
       "      <td>...</td>\n",
       "      <td>...</td>\n",
       "      <td>...</td>\n",
       "      <td>...</td>\n",
       "      <td>...</td>\n",
       "      <td>...</td>\n",
       "      <td>...</td>\n",
       "      <td>...</td>\n",
       "      <td>...</td>\n",
       "      <td>...</td>\n",
       "      <td>...</td>\n",
       "      <td>...</td>\n",
       "      <td>...</td>\n",
       "    </tr>\n",
       "    <tr>\n",
       "      <th>501</th>\n",
       "      <td>0.06263</td>\n",
       "      <td>0.0</td>\n",
       "      <td>11.93</td>\n",
       "      <td>0</td>\n",
       "      <td>0.573</td>\n",
       "      <td>6.593</td>\n",
       "      <td>69.1</td>\n",
       "      <td>2.4786</td>\n",
       "      <td>1</td>\n",
       "      <td>273</td>\n",
       "      <td>21.0</td>\n",
       "      <td>391.99</td>\n",
       "      <td>9.67</td>\n",
       "      <td>22.4</td>\n",
       "    </tr>\n",
       "    <tr>\n",
       "      <th>502</th>\n",
       "      <td>0.04527</td>\n",
       "      <td>0.0</td>\n",
       "      <td>11.93</td>\n",
       "      <td>0</td>\n",
       "      <td>0.573</td>\n",
       "      <td>6.120</td>\n",
       "      <td>76.7</td>\n",
       "      <td>2.2875</td>\n",
       "      <td>1</td>\n",
       "      <td>273</td>\n",
       "      <td>21.0</td>\n",
       "      <td>396.90</td>\n",
       "      <td>9.08</td>\n",
       "      <td>20.6</td>\n",
       "    </tr>\n",
       "    <tr>\n",
       "      <th>503</th>\n",
       "      <td>0.06076</td>\n",
       "      <td>0.0</td>\n",
       "      <td>11.93</td>\n",
       "      <td>0</td>\n",
       "      <td>0.573</td>\n",
       "      <td>6.976</td>\n",
       "      <td>91.0</td>\n",
       "      <td>2.1675</td>\n",
       "      <td>1</td>\n",
       "      <td>273</td>\n",
       "      <td>21.0</td>\n",
       "      <td>396.90</td>\n",
       "      <td>5.64</td>\n",
       "      <td>23.9</td>\n",
       "    </tr>\n",
       "    <tr>\n",
       "      <th>504</th>\n",
       "      <td>0.10959</td>\n",
       "      <td>0.0</td>\n",
       "      <td>11.93</td>\n",
       "      <td>0</td>\n",
       "      <td>0.573</td>\n",
       "      <td>6.794</td>\n",
       "      <td>89.3</td>\n",
       "      <td>2.3889</td>\n",
       "      <td>1</td>\n",
       "      <td>273</td>\n",
       "      <td>21.0</td>\n",
       "      <td>393.45</td>\n",
       "      <td>6.48</td>\n",
       "      <td>22.0</td>\n",
       "    </tr>\n",
       "    <tr>\n",
       "      <th>505</th>\n",
       "      <td>0.04741</td>\n",
       "      <td>0.0</td>\n",
       "      <td>11.93</td>\n",
       "      <td>0</td>\n",
       "      <td>0.573</td>\n",
       "      <td>6.030</td>\n",
       "      <td>80.8</td>\n",
       "      <td>2.5050</td>\n",
       "      <td>1</td>\n",
       "      <td>273</td>\n",
       "      <td>21.0</td>\n",
       "      <td>396.90</td>\n",
       "      <td>7.88</td>\n",
       "      <td>11.9</td>\n",
       "    </tr>\n",
       "  </tbody>\n",
       "</table>\n",
       "<p>506 rows × 14 columns</p>\n",
       "</div>"
      ],
      "text/plain": [
       "        CRIM    ZN  INDUS  CHAS    NOX     RM   AGE     DIS  RAD  TAX  \\\n",
       "0    0.00632  18.0   2.31     0  0.538  6.575  65.2  4.0900    1  296   \n",
       "1    0.02731   0.0   7.07     0  0.469  6.421  78.9  4.9671    2  242   \n",
       "2    0.02729   0.0   7.07     0  0.469  7.185  61.1  4.9671    2  242   \n",
       "3    0.03237   0.0   2.18     0  0.458  6.998  45.8  6.0622    3  222   \n",
       "4    0.06905   0.0   2.18     0  0.458  7.147  54.2  6.0622    3  222   \n",
       "..       ...   ...    ...   ...    ...    ...   ...     ...  ...  ...   \n",
       "501  0.06263   0.0  11.93     0  0.573  6.593  69.1  2.4786    1  273   \n",
       "502  0.04527   0.0  11.93     0  0.573  6.120  76.7  2.2875    1  273   \n",
       "503  0.06076   0.0  11.93     0  0.573  6.976  91.0  2.1675    1  273   \n",
       "504  0.10959   0.0  11.93     0  0.573  6.794  89.3  2.3889    1  273   \n",
       "505  0.04741   0.0  11.93     0  0.573  6.030  80.8  2.5050    1  273   \n",
       "\n",
       "     PTRATIO       B  LSTAT  MEDV  \n",
       "0       15.3  396.90   4.98  24.0  \n",
       "1       17.8  396.90   9.14  21.6  \n",
       "2       17.8  392.83   4.03  34.7  \n",
       "3       18.7  394.63   2.94  33.4  \n",
       "4       18.7  396.90   5.33  36.2  \n",
       "..       ...     ...    ...   ...  \n",
       "501     21.0  391.99   9.67  22.4  \n",
       "502     21.0  396.90   9.08  20.6  \n",
       "503     21.0  396.90   5.64  23.9  \n",
       "504     21.0  393.45   6.48  22.0  \n",
       "505     21.0  396.90   7.88  11.9  \n",
       "\n",
       "[506 rows x 14 columns]"
      ]
     },
     "execution_count": 126,
     "metadata": {},
     "output_type": "execute_result"
    }
   ],
   "source": [
    "import pandas as pd\n",
    "df =pd.read_csv('boston_house_prices.csv')\n",
    "df"
   ]
  },
  {
   "cell_type": "markdown",
   "id": "82d9c7d8",
   "metadata": {},
   "source": [
    "### 1. 피처 & 타겟 분류 & CLAASSIFICATION OR CLUSTERING 인지 확인 "
   ]
  },
  {
   "cell_type": "code",
   "execution_count": 128,
   "id": "4782d3ba",
   "metadata": {},
   "outputs": [],
   "source": [
    "features = ['CRIM','ZN','INDUS','CHAS','NOX','RM','AGE','DIS','RAD','TAX','PTRATIO','B','LSTAT','MEDV']"
   ]
  },
  {
   "cell_type": "code",
   "execution_count": 129,
   "id": "75b2cf9d",
   "metadata": {},
   "outputs": [],
   "source": [
    "X= df[features]\n",
    "y =df['MEDV']"
   ]
  },
  {
   "cell_type": "markdown",
   "id": "f67a667f",
   "metadata": {},
   "source": [
    "### 2. 트레이닝/테스트 데이터 분할"
   ]
  },
  {
   "cell_type": "code",
   "execution_count": 130,
   "id": "eedfee4d",
   "metadata": {},
   "outputs": [],
   "source": [
    "from sklearn.model_selection import train_test_split\n",
    "X_tn, X_te, y_tn, y_te = train_test_split(X, y, random_state=0)"
   ]
  },
  {
   "cell_type": "markdown",
   "id": "dc018354",
   "metadata": {},
   "source": [
    "### 3. 데이터 표준화"
   ]
  },
  {
   "cell_type": "code",
   "execution_count": 131,
   "id": "58ae300f",
   "metadata": {},
   "outputs": [],
   "source": [
    "from sklearn.preprocessing import StandardScaler\n",
    "std_scale = StandardScaler()\n",
    "std_scale.fit(X_tn)\n",
    "X_tn_std = std_scale.transform(X_tn)\n",
    "X_te_std = std_scale.transform(X_te) "
   ]
  },
  {
   "cell_type": "markdown",
   "id": "8da993b9",
   "metadata": {},
   "source": [
    "### 4. 선형회귀분석 학습"
   ]
  },
  {
   "cell_type": "code",
   "execution_count": null,
   "id": "76050094",
   "metadata": {},
   "outputs": [],
   "source": [
    "from sklearn.linear_model import LinearRegression\n",
    "clf_Ir = LinearRegression()\n",
    "clf_Ir.fit(X_tn_std, y_tn)"
   ]
  },
  {
   "cell_type": "markdown",
   "id": "c90befbc",
   "metadata": {},
   "source": [
    "### 5. 선형회귀분석 모형 추정 계수 확인 (w 값과 b값 구하기)"
   ]
  },
  {
   "cell_type": "code",
   "execution_count": 133,
   "id": "ef3d73e7",
   "metadata": {},
   "outputs": [
    {
     "name": "stdout",
     "output_type": "stream",
     "text": [
      "[ 1.03167652e-14 -1.11022302e-14  8.54871729e-15 -2.69229083e-15\n",
      "  7.66053887e-15 -5.32907052e-15  8.54871729e-15 -1.23234756e-14\n",
      "  1.04360964e-14  6.99440506e-15  4.88498131e-15 -1.55431223e-15\n",
      "  1.36557432e-14  9.23624575e+00]\n"
     ]
    }
   ],
   "source": [
    "print(clf_Ir.coef_)"
   ]
  },
  {
   "cell_type": "code",
   "execution_count": 134,
   "id": "1c8ce883",
   "metadata": {},
   "outputs": [
    {
     "name": "stdout",
     "output_type": "stream",
     "text": [
      "22.60870712401056\n"
     ]
    }
   ],
   "source": [
    "print(clf_Ir.intercept_)"
   ]
  },
  {
   "cell_type": "markdown",
   "id": "0b8bf72d",
   "metadata": {},
   "source": [
    "### 6. 릿지 회귀분석(L2 제약식 적용)"
   ]
  },
  {
   "cell_type": "code",
   "execution_count": 136,
   "id": "88aef65a",
   "metadata": {},
   "outputs": [
    {
     "data": {
      "text/plain": [
       "Ridge(alpha=1)"
      ]
     },
     "execution_count": 136,
     "metadata": {},
     "output_type": "execute_result"
    }
   ],
   "source": [
    "from sklearn.linear_model import Ridge\n",
    "clf_ridge = Ridge(alpha=1)\n",
    "clf_ridge.fit(X_tn_std,y_tn)"
   ]
  },
  {
   "cell_type": "markdown",
   "id": "de0da8a3",
   "metadata": {},
   "source": [
    "### 7. 리쏘 회귀분석(L1 제약식 적용)"
   ]
  },
  {
   "cell_type": "code",
   "execution_count": 137,
   "id": "f5f9b33d",
   "metadata": {},
   "outputs": [
    {
     "data": {
      "text/plain": [
       "Lasso(alpha=0.01)"
      ]
     },
     "execution_count": 137,
     "metadata": {},
     "output_type": "execute_result"
    }
   ],
   "source": [
    "from sklearn.linear_model import Lasso\n",
    "clf_lasso= Lasso(alpha=0.01)\n",
    "clf_lasso.fit(X_tn_std,y_tn)"
   ]
  },
  {
   "cell_type": "markdown",
   "id": "a67a8dba",
   "metadata": {},
   "source": [
    "### 8. 엘라스틱넷"
   ]
  },
  {
   "cell_type": "code",
   "execution_count": 138,
   "id": "e89d4290",
   "metadata": {},
   "outputs": [
    {
     "data": {
      "text/plain": [
       "ElasticNet(alpha=0.01, l1_ratio=0.01)"
      ]
     },
     "execution_count": 138,
     "metadata": {},
     "output_type": "execute_result"
    }
   ],
   "source": [
    "from sklearn.linear_model import ElasticNet\n",
    "clf_elastic = ElasticNet(alpha=0.01, l1_ratio=0.01)\n",
    "clf_elastic.fit(X_tn_std, y_tn)"
   ]
  },
  {
   "cell_type": "markdown",
   "id": "3dbcd635",
   "metadata": {},
   "source": [
    "### 9. 예측(평가방법)"
   ]
  },
  {
   "cell_type": "code",
   "execution_count": 139,
   "id": "939781dc",
   "metadata": {},
   "outputs": [],
   "source": [
    "pred_lr = clf_Ir.predict(X_te_std)\n",
    "pred_ridge = clf_ridge.predict(X_te_std)\n",
    "pred_lasso = clf_lasso.predict(X_te_std)\n",
    "pred_elastic = clf_elastic.predict(X_te_std)"
   ]
  },
  {
   "cell_type": "markdown",
   "id": "b9e21da5",
   "metadata": {},
   "source": [
    "### 10. 모형 평가-R제곱값"
   ]
  },
  {
   "cell_type": "code",
   "execution_count": 140,
   "id": "28886030",
   "metadata": {},
   "outputs": [
    {
     "name": "stdout",
     "output_type": "stream",
     "text": [
      "1.0\n",
      "0.9999536702138659\n",
      "0.9999988264680978\n",
      "0.9994024749468843\n"
     ]
    }
   ],
   "source": [
    "\n",
    "from sklearn.metrics import r2_score\n",
    "print(r2_score(y_te, pred_lr))\n",
    "print(r2_score(y_te, pred_ridge))\n",
    "print(r2_score(y_te, pred_lasso))\n",
    "print(r2_score(y_te, pred_elastic))"
   ]
  },
  {
   "cell_type": "markdown",
   "id": "c6e83526",
   "metadata": {},
   "source": [
    "### 11. 모형 평가-MSE"
   ]
  },
  {
   "cell_type": "code",
   "execution_count": 115,
   "id": "1bd19dc0",
   "metadata": {},
   "outputs": [
    {
     "name": "stdout",
     "output_type": "stream",
     "text": [
      "5.987764845787016e-27\n",
      "0.0037850979126046094\n",
      "9.587640099837105e-05\n",
      "0.048817208539107586\n"
     ]
    }
   ],
   "source": [
    "from sklearn.metrics import mean_squared_error\n",
    "print(mean_squared_error(y_te, pred_lr))\n",
    "print(mean_squared_error(y_te, pred_ridge))\n",
    "print(mean_squared_error(y_te, pred_lasso))\n",
    "print(mean_squared_error(y_te, pred_elastic))"
   ]
  },
  {
   "cell_type": "markdown",
   "id": "39cedcf1",
   "metadata": {},
   "source": [
    "0과 1사이에 있음\n",
    "우리가 추정하고자 하는 \n",
    "설명가능한 부분 = 0.63 (전체부분에서 설명가능부분이 63% -> 높으면 높을수록 좋음 !)\n",
    "설명 가능하지 않은 부분 (설명불가능한 부분, 오차, error)"
   ]
  },
  {
   "cell_type": "markdown",
   "id": "1c94c4c8",
   "metadata": {},
   "source": [
    "모형평가 - MSD / 각 값들의 오차를 제곱핵서 더한값 (0부터 무한대 값을 가짐)\n",
    "도메인에따라서 기준값이 결정됨 ! "
   ]
  },
  {
   "cell_type": "markdown",
   "id": "3b179e60",
   "metadata": {},
   "source": [
    "CLASSIFICATION(분류문제) => 평가방법 : ACCURACY, PRECISION, RECALL 등등 사용\n",
    "CLSUTERING(군집문제) => 평가방법 : R2, MSE 등등 사용"
   ]
  },
  {
   "cell_type": "markdown",
   "id": "176ab4b7",
   "metadata": {},
   "source": [
    "## 3. 로지스틱 회귀분석"
   ]
  },
  {
   "cell_type": "code",
   "execution_count": 145,
   "id": "a35af37f",
   "metadata": {},
   "outputs": [
    {
     "data": {
      "text/html": [
       "<div>\n",
       "<style scoped>\n",
       "    .dataframe tbody tr th:only-of-type {\n",
       "        vertical-align: middle;\n",
       "    }\n",
       "\n",
       "    .dataframe tbody tr th {\n",
       "        vertical-align: top;\n",
       "    }\n",
       "\n",
       "    .dataframe thead th {\n",
       "        text-align: right;\n",
       "    }\n",
       "</style>\n",
       "<table border=\"1\" class=\"dataframe\">\n",
       "  <thead>\n",
       "    <tr style=\"text-align: right;\">\n",
       "      <th></th>\n",
       "      <th>Alcohol</th>\n",
       "      <th>Malic</th>\n",
       "      <th>Ash</th>\n",
       "      <th>Alcalinity</th>\n",
       "      <th>Magesium</th>\n",
       "      <th>Phenols</th>\n",
       "      <th>Flavanoids</th>\n",
       "      <th>Nonflavanoids</th>\n",
       "      <th>Proanthocyanins</th>\n",
       "      <th>Color</th>\n",
       "      <th>Hue</th>\n",
       "      <th>Dilution</th>\n",
       "      <th>Proline</th>\n",
       "      <th>class</th>\n",
       "    </tr>\n",
       "  </thead>\n",
       "  <tbody>\n",
       "    <tr>\n",
       "      <th>0</th>\n",
       "      <td>14.23</td>\n",
       "      <td>1.71</td>\n",
       "      <td>2.43</td>\n",
       "      <td>15.6</td>\n",
       "      <td>127</td>\n",
       "      <td>2.80</td>\n",
       "      <td>3.06</td>\n",
       "      <td>0.28</td>\n",
       "      <td>2.29</td>\n",
       "      <td>5.64</td>\n",
       "      <td>1.04</td>\n",
       "      <td>3.92</td>\n",
       "      <td>1065</td>\n",
       "      <td>0</td>\n",
       "    </tr>\n",
       "    <tr>\n",
       "      <th>1</th>\n",
       "      <td>13.20</td>\n",
       "      <td>1.78</td>\n",
       "      <td>2.14</td>\n",
       "      <td>11.2</td>\n",
       "      <td>100</td>\n",
       "      <td>2.65</td>\n",
       "      <td>2.76</td>\n",
       "      <td>0.26</td>\n",
       "      <td>1.28</td>\n",
       "      <td>4.38</td>\n",
       "      <td>1.05</td>\n",
       "      <td>3.40</td>\n",
       "      <td>1050</td>\n",
       "      <td>0</td>\n",
       "    </tr>\n",
       "    <tr>\n",
       "      <th>2</th>\n",
       "      <td>13.16</td>\n",
       "      <td>2.36</td>\n",
       "      <td>2.67</td>\n",
       "      <td>18.6</td>\n",
       "      <td>101</td>\n",
       "      <td>2.80</td>\n",
       "      <td>3.24</td>\n",
       "      <td>0.30</td>\n",
       "      <td>2.81</td>\n",
       "      <td>5.68</td>\n",
       "      <td>1.03</td>\n",
       "      <td>3.17</td>\n",
       "      <td>1185</td>\n",
       "      <td>0</td>\n",
       "    </tr>\n",
       "    <tr>\n",
       "      <th>3</th>\n",
       "      <td>14.37</td>\n",
       "      <td>1.95</td>\n",
       "      <td>2.50</td>\n",
       "      <td>16.8</td>\n",
       "      <td>113</td>\n",
       "      <td>3.85</td>\n",
       "      <td>3.49</td>\n",
       "      <td>0.24</td>\n",
       "      <td>2.18</td>\n",
       "      <td>7.80</td>\n",
       "      <td>0.86</td>\n",
       "      <td>3.45</td>\n",
       "      <td>1480</td>\n",
       "      <td>0</td>\n",
       "    </tr>\n",
       "    <tr>\n",
       "      <th>4</th>\n",
       "      <td>13.24</td>\n",
       "      <td>2.59</td>\n",
       "      <td>2.87</td>\n",
       "      <td>21.0</td>\n",
       "      <td>118</td>\n",
       "      <td>2.80</td>\n",
       "      <td>2.69</td>\n",
       "      <td>0.39</td>\n",
       "      <td>1.82</td>\n",
       "      <td>4.32</td>\n",
       "      <td>1.04</td>\n",
       "      <td>2.93</td>\n",
       "      <td>735</td>\n",
       "      <td>0</td>\n",
       "    </tr>\n",
       "    <tr>\n",
       "      <th>...</th>\n",
       "      <td>...</td>\n",
       "      <td>...</td>\n",
       "      <td>...</td>\n",
       "      <td>...</td>\n",
       "      <td>...</td>\n",
       "      <td>...</td>\n",
       "      <td>...</td>\n",
       "      <td>...</td>\n",
       "      <td>...</td>\n",
       "      <td>...</td>\n",
       "      <td>...</td>\n",
       "      <td>...</td>\n",
       "      <td>...</td>\n",
       "      <td>...</td>\n",
       "    </tr>\n",
       "    <tr>\n",
       "      <th>173</th>\n",
       "      <td>13.71</td>\n",
       "      <td>5.65</td>\n",
       "      <td>2.45</td>\n",
       "      <td>20.5</td>\n",
       "      <td>95</td>\n",
       "      <td>1.68</td>\n",
       "      <td>0.61</td>\n",
       "      <td>0.52</td>\n",
       "      <td>1.06</td>\n",
       "      <td>7.70</td>\n",
       "      <td>0.64</td>\n",
       "      <td>1.74</td>\n",
       "      <td>740</td>\n",
       "      <td>2</td>\n",
       "    </tr>\n",
       "    <tr>\n",
       "      <th>174</th>\n",
       "      <td>13.40</td>\n",
       "      <td>3.91</td>\n",
       "      <td>2.48</td>\n",
       "      <td>23.0</td>\n",
       "      <td>102</td>\n",
       "      <td>1.80</td>\n",
       "      <td>0.75</td>\n",
       "      <td>0.43</td>\n",
       "      <td>1.41</td>\n",
       "      <td>7.30</td>\n",
       "      <td>0.70</td>\n",
       "      <td>1.56</td>\n",
       "      <td>750</td>\n",
       "      <td>2</td>\n",
       "    </tr>\n",
       "    <tr>\n",
       "      <th>175</th>\n",
       "      <td>13.27</td>\n",
       "      <td>4.28</td>\n",
       "      <td>2.26</td>\n",
       "      <td>20.0</td>\n",
       "      <td>120</td>\n",
       "      <td>1.59</td>\n",
       "      <td>0.69</td>\n",
       "      <td>0.43</td>\n",
       "      <td>1.35</td>\n",
       "      <td>10.20</td>\n",
       "      <td>0.59</td>\n",
       "      <td>1.56</td>\n",
       "      <td>835</td>\n",
       "      <td>2</td>\n",
       "    </tr>\n",
       "    <tr>\n",
       "      <th>176</th>\n",
       "      <td>13.17</td>\n",
       "      <td>2.59</td>\n",
       "      <td>2.37</td>\n",
       "      <td>20.0</td>\n",
       "      <td>120</td>\n",
       "      <td>1.65</td>\n",
       "      <td>0.68</td>\n",
       "      <td>0.53</td>\n",
       "      <td>1.46</td>\n",
       "      <td>9.30</td>\n",
       "      <td>0.60</td>\n",
       "      <td>1.62</td>\n",
       "      <td>840</td>\n",
       "      <td>2</td>\n",
       "    </tr>\n",
       "    <tr>\n",
       "      <th>177</th>\n",
       "      <td>14.13</td>\n",
       "      <td>4.10</td>\n",
       "      <td>2.74</td>\n",
       "      <td>24.5</td>\n",
       "      <td>96</td>\n",
       "      <td>2.05</td>\n",
       "      <td>0.76</td>\n",
       "      <td>0.56</td>\n",
       "      <td>1.35</td>\n",
       "      <td>9.20</td>\n",
       "      <td>0.61</td>\n",
       "      <td>1.60</td>\n",
       "      <td>560</td>\n",
       "      <td>2</td>\n",
       "    </tr>\n",
       "  </tbody>\n",
       "</table>\n",
       "<p>178 rows × 14 columns</p>\n",
       "</div>"
      ],
      "text/plain": [
       "     Alcohol  Malic   Ash  Alcalinity  Magesium  Phenols  Flavanoids  \\\n",
       "0      14.23   1.71  2.43        15.6       127     2.80        3.06   \n",
       "1      13.20   1.78  2.14        11.2       100     2.65        2.76   \n",
       "2      13.16   2.36  2.67        18.6       101     2.80        3.24   \n",
       "3      14.37   1.95  2.50        16.8       113     3.85        3.49   \n",
       "4      13.24   2.59  2.87        21.0       118     2.80        2.69   \n",
       "..       ...    ...   ...         ...       ...      ...         ...   \n",
       "173    13.71   5.65  2.45        20.5        95     1.68        0.61   \n",
       "174    13.40   3.91  2.48        23.0       102     1.80        0.75   \n",
       "175    13.27   4.28  2.26        20.0       120     1.59        0.69   \n",
       "176    13.17   2.59  2.37        20.0       120     1.65        0.68   \n",
       "177    14.13   4.10  2.74        24.5        96     2.05        0.76   \n",
       "\n",
       "     Nonflavanoids  Proanthocyanins  Color   Hue  Dilution  Proline  class  \n",
       "0             0.28             2.29   5.64  1.04      3.92     1065      0  \n",
       "1             0.26             1.28   4.38  1.05      3.40     1050      0  \n",
       "2             0.30             2.81   5.68  1.03      3.17     1185      0  \n",
       "3             0.24             2.18   7.80  0.86      3.45     1480      0  \n",
       "4             0.39             1.82   4.32  1.04      2.93      735      0  \n",
       "..             ...              ...    ...   ...       ...      ...    ...  \n",
       "173           0.52             1.06   7.70  0.64      1.74      740      2  \n",
       "174           0.43             1.41   7.30  0.70      1.56      750      2  \n",
       "175           0.43             1.35  10.20  0.59      1.56      835      2  \n",
       "176           0.53             1.46   9.30  0.60      1.62      840      2  \n",
       "177           0.56             1.35   9.20  0.61      1.60      560      2  \n",
       "\n",
       "[178 rows x 14 columns]"
      ]
     },
     "execution_count": 145,
     "metadata": {},
     "output_type": "execute_result"
    }
   ],
   "source": [
    "import pandas as pd\n",
    "df = pd.read_csv('wine_data.csv')\n",
    "df"
   ]
  },
  {
   "cell_type": "code",
   "execution_count": 146,
   "id": "546e214d",
   "metadata": {},
   "outputs": [],
   "source": [
    "features = ['Alcohol', 'Malic', 'Ash', 'Alcalinity', 'Magesium', 'Phenols', 'Flavanoids', \n",
    "'Nonflavanoids', 'Proanthocyanins', 'Color','Hue', 'Dilution', 'Proline']\n",
    "X = df[features]\n",
    "y = df['class']"
   ]
  },
  {
   "cell_type": "code",
   "execution_count": 147,
   "id": "d85a35c0",
   "metadata": {},
   "outputs": [],
   "source": [
    "from sklearn.model_selection import train_test_split\n",
    "X_tn, X_te, y_tn, y_te=train_test_split(X,y,random_state=0)"
   ]
  },
  {
   "cell_type": "code",
   "execution_count": 148,
   "id": "b75707a1",
   "metadata": {},
   "outputs": [],
   "source": [
    "\n",
    "from sklearn.preprocessing import StandardScaler\n",
    "std_scale = StandardScaler()\n",
    "std_scale.fit(X_tn)\n",
    "X_tn_std = std_scale.transform(X_tn)\n",
    "X_te_std = std_scale.transform(X_te)"
   ]
  },
  {
   "cell_type": "code",
   "execution_count": 149,
   "id": "905a22f1",
   "metadata": {},
   "outputs": [
    {
     "data": {
      "text/plain": [
       "LogisticRegression()"
      ]
     },
     "execution_count": 149,
     "metadata": {},
     "output_type": "execute_result"
    }
   ],
   "source": [
    "\n",
    "from sklearn.linear_model import LogisticRegression\n",
    "clf_logi_l2 = LogisticRegression(penalty='l2')\n",
    "clf_logi_l2.fit(X_tn_std, y_tn)\n",
    "#penalty = l2 선택"
   ]
  },
  {
   "cell_type": "code",
   "execution_count": 150,
   "id": "bda22995",
   "metadata": {},
   "outputs": [
    {
     "name": "stdout",
     "output_type": "stream",
     "text": [
      "[[ 0.69853977  0.25867826  0.39868195 -0.76815236 -0.00429211  0.18526119\n",
      "   0.74915884 -0.12654939  0.10401364  0.17318889  0.13724279  0.68065574\n",
      "   0.98907933]\n",
      " [-0.81533159 -0.47295284 -0.74058812  0.54948684 -0.08525548  0.01376966\n",
      "   0.18741135  0.13017416  0.324744   -1.07084932  0.57591149  0.1276171\n",
      "  -0.99183488]\n",
      " [ 0.11679181  0.21427458  0.34190617  0.21866552  0.08954759 -0.19903085\n",
      "  -0.93657019 -0.00362477 -0.42875763  0.89766042 -0.71315428 -0.80827284\n",
      "   0.00275554]]\n",
      "[ 0.29606777  0.57687138 -0.87293914]\n"
     ]
    }
   ],
   "source": [
    "print(clf_logi_l2.coef_)\n",
    "print(clf_logi_l2.intercept_)"
   ]
  },
  {
   "cell_type": "code",
   "execution_count": 151,
   "id": "e0dadcfa",
   "metadata": {},
   "outputs": [
    {
     "name": "stdout",
     "output_type": "stream",
     "text": [
      "[0 2 1 0 1 1 0 2 1 1 2 2 0 1 2 1 0 0 1 0 1 0 0 1 1 1 1 1 1 2 0 0 1 0 0 0 2\n",
      " 1 1 2 0 0 1 1 1]\n"
     ]
    }
   ],
   "source": [
    "pred_logistic = clf_logi_l2.predict(X_te_std)\n",
    "print(pred_logistic)"
   ]
  },
  {
   "cell_type": "code",
   "execution_count": 152,
   "id": "3332d106",
   "metadata": {},
   "outputs": [
    {
     "name": "stdout",
     "output_type": "stream",
     "text": [
      "[[9.93360060e-01 4.92359807e-03 1.71634194e-03]\n",
      " [3.22076323e-04 2.77943948e-04 9.99399980e-01]\n",
      " [1.00535859e-02 9.89854907e-01 9.15071461e-05]\n",
      " [9.85578241e-01 1.15830075e-02 2.83875127e-03]\n",
      " [9.72825954e-02 8.94560998e-01 8.15640637e-03]\n",
      " [1.60778757e-01 8.37805552e-01 1.41569030e-03]\n",
      " [9.99185889e-01 2.82861666e-04 5.31249532e-04]\n",
      " [9.27747541e-04 6.79471537e-03 9.92277537e-01]\n",
      " [4.73077770e-03 9.94412333e-01 8.56889586e-04]\n",
      " [1.16783305e-03 9.96547896e-01 2.28427103e-03]\n",
      " [2.29360201e-02 1.70472078e-02 9.60016772e-01]\n",
      " [5.37945912e-04 2.05426668e-03 9.97407787e-01]\n",
      " [9.99868646e-01 4.18491948e-05 8.95049101e-05]\n",
      " [7.05474922e-02 9.29254258e-01 1.98249912e-04]\n",
      " [3.43785273e-03 1.00980993e-03 9.95552337e-01]\n",
      " [1.23126171e-04 9.99870752e-01 6.12188768e-06]\n",
      " [9.95131651e-01 3.26254700e-03 1.60580153e-03]\n",
      " [9.99969651e-01 5.43181185e-06 2.49174273e-05]\n",
      " [5.79978522e-03 7.64925188e-01 2.29275027e-01]\n",
      " [9.98986465e-01 9.25988748e-04 8.75463768e-05]\n",
      " [6.06195463e-02 9.39306550e-01 7.39040446e-05]\n",
      " [9.25882697e-01 6.27837302e-02 1.13335726e-02]\n",
      " [8.64325234e-01 1.18611525e-01 1.70632406e-02]\n",
      " [9.20337682e-03 9.90391986e-01 4.04636869e-04]\n",
      " [8.03096284e-03 9.43323093e-01 4.86459442e-02]\n",
      " [2.10231896e-03 9.96852364e-01 1.04531664e-03]\n",
      " [7.40692563e-03 9.90668938e-01 1.92413614e-03]\n",
      " [2.40657478e-04 9.99359613e-01 3.99729891e-04]\n",
      " [5.16376453e-02 9.02025848e-01 4.63365069e-02]\n",
      " [1.12977542e-03 6.77598807e-04 9.98192626e-01]\n",
      " [9.97724118e-01 1.51867988e-03 7.57201761e-04]\n",
      " [9.97376389e-01 2.05002683e-03 5.73584571e-04]\n",
      " [1.48258810e-02 9.37873310e-01 4.73008093e-02]\n",
      " [9.96484888e-01 5.74779620e-04 2.94033228e-03]\n",
      " [9.98426642e-01 1.36266080e-03 2.10697132e-04]\n",
      " [8.37649851e-01 1.60800116e-01 1.55003223e-03]\n",
      " [1.86414568e-02 1.00865635e-02 9.71271980e-01]\n",
      " [1.37990086e-03 9.86583550e-01 1.20365494e-02]\n",
      " [2.95873397e-03 9.96750087e-01 2.91179395e-04]\n",
      " [3.22813864e-03 1.79029495e-03 9.94981566e-01]\n",
      " [8.92082442e-01 1.06959827e-01 9.57730949e-04]\n",
      " [9.92891436e-01 6.24485249e-03 8.63711508e-04]\n",
      " [3.96059760e-03 9.95952977e-01 8.64254988e-05]\n",
      " [1.75302707e-03 9.96973503e-01 1.27346965e-03]\n",
      " [3.31085009e-04 9.98958865e-01 7.10050342e-04]]\n"
     ]
    }
   ],
   "source": [
    "pred_proba = clf_logi_l2.predict_proba(X_te_std)\n",
    "print(pred_proba)"
   ]
  },
  {
   "cell_type": "code",
   "execution_count": 153,
   "id": "4192db81",
   "metadata": {},
   "outputs": [
    {
     "name": "stdout",
     "output_type": "stream",
     "text": [
      "1.0\n"
     ]
    }
   ],
   "source": [
    "# 정확도(accuracy)\n",
    "from sklearn.metrics import accuracy_score\n",
    "accuracy = accuracy_score(y_te, pred_logistic)\n",
    "print(accuracy)\n"
   ]
  },
  {
   "cell_type": "code",
   "execution_count": null,
   "id": "3e6d2e49",
   "metadata": {},
   "outputs": [],
   "source": [
    "# 정밀도\n",
    "from sklearn.metrics import precision_score\n",
    "precision = precision_score(y_te, pred_logistic)\n",
    "print(precision)"
   ]
  },
  {
   "cell_type": "code",
   "execution_count": null,
   "id": "bf53fe5f",
   "metadata": {},
   "outputs": [],
   "source": [
    "# F1 스코어\n",
    "from sklearn.metrics import f1_score\n",
    "f1 = f1_score(y_te, pred_logistic, average='macro')\n",
    "print(f1)"
   ]
  },
  {
   "cell_type": "code",
   "execution_count": 156,
   "id": "6a10448e",
   "metadata": {},
   "outputs": [
    {
     "name": "stdout",
     "output_type": "stream",
     "text": [
      "1.0\n"
     ]
    }
   ],
   "source": [
    "# 리콜\n",
    "from sklearn.metrics import recall_score\n",
    "recall = recall_score(y_te, pred_logistic, average='macro')\n",
    "print(recall)"
   ]
  },
  {
   "cell_type": "code",
   "execution_count": null,
   "id": "2e2db163",
   "metadata": {},
   "outputs": [],
   "source": [
    "# confusion matrix 확인 \n",
    "from sklearn.metrics import confusion_matrix\n",
    "conf_matrix = confusion_matrix(y_te, pred_logistic)\n",
    "print(conf_matrix)"
   ]
  },
  {
   "cell_type": "code",
   "execution_count": null,
   "id": "92f33768",
   "metadata": {},
   "outputs": [],
   "source": [
    "# 분류 레포트 확인\n",
    "from sklearn.metrics import classification_report\n",
    "class_report = classification_report(y_te, pred_logistic)\n",
    "print(class_report)"
   ]
  },
  {
   "cell_type": "markdown",
   "id": "e8fcc760",
   "metadata": {},
   "source": [
    "## 4. 나이브베이즈 "
   ]
  },
  {
   "cell_type": "code",
   "execution_count": 158,
   "id": "efa9a8c6",
   "metadata": {},
   "outputs": [
    {
     "data": {
      "text/plain": [
       "GaussianNB()"
      ]
     },
     "execution_count": 158,
     "metadata": {},
     "output_type": "execute_result"
    }
   ],
   "source": [
    "# 나이브 베이즈 학습\n",
    "from sklearn.naive_bayes import GaussianNB\n",
    "clf_gnb = GaussianNB()\n",
    "clf_gnb.fit(X_tn_std, y_tn)\n",
    "\n"
   ]
  },
  {
   "cell_type": "code",
   "execution_count": 159,
   "id": "12ce8573",
   "metadata": {},
   "outputs": [
    {
     "name": "stdout",
     "output_type": "stream",
     "text": [
      "[0 2 1 0 1 1 0 2 1 1 2 2 0 0 2 1 0 0 2 0 0 0 0 1 1 1 1 1 1 2 0 0 1 0 0 0 2\n",
      " 1 1 2 0 0 1 1 1]\n"
     ]
    }
   ],
   "source": [
    "# 예측\n",
    "pred_gnb = clf_gnb.predict(X_te_std)\n",
    "print(pred_gnb)"
   ]
  },
  {
   "cell_type": "code",
   "execution_count": 160,
   "id": "b281ed04",
   "metadata": {},
   "outputs": [
    {
     "name": "stdout",
     "output_type": "stream",
     "text": [
      "0.9333333333333333\n"
     ]
    }
   ],
   "source": [
    "# 정확도(accuracy)\n",
    "from sklearn.metrics import accuracy_score\n",
    "accuracy = accuracy_score(y_te, pred_gnb)\n",
    "print(accuracy)"
   ]
  },
  {
   "cell_type": "code",
   "execution_count": 161,
   "id": "d40a1ca7",
   "metadata": {},
   "outputs": [
    {
     "name": "stdout",
     "output_type": "stream",
     "text": [
      "0.9259259259259259\n"
     ]
    }
   ],
   "source": [
    "# 정밀도(precision)\n",
    "from sklearn.metrics import precision_score\n",
    "precision = precision_score(y_te, pred_gnb, average='macro')\n",
    "print(precision)"
   ]
  },
  {
   "cell_type": "code",
   "execution_count": 162,
   "id": "8d967b62",
   "metadata": {},
   "outputs": [
    {
     "name": "stdout",
     "output_type": "stream",
     "text": [
      "0.9523809523809524\n"
     ]
    }
   ],
   "source": [
    "# 리콜\n",
    "from sklearn.metrics import recall_score\n",
    "recall = recall_score(y_te, pred_gnb, average='macro')\n",
    "print(recall)"
   ]
  },
  {
   "cell_type": "code",
   "execution_count": 163,
   "id": "30090fff",
   "metadata": {},
   "outputs": [
    {
     "name": "stdout",
     "output_type": "stream",
     "text": [
      "0.9351432880844645\n"
     ]
    }
   ],
   "source": [
    "# f1 스코어\n",
    "from sklearn.metrics import f1_score\n",
    "f1 = f1_score(y_te, pred_gnb, average='macro')\n",
    "print(f1)"
   ]
  },
  {
   "cell_type": "code",
   "execution_count": 164,
   "id": "e985528b",
   "metadata": {},
   "outputs": [
    {
     "name": "stdout",
     "output_type": "stream",
     "text": [
      "[[16  0  0]\n",
      " [ 2 18  1]\n",
      " [ 0  0  8]]\n"
     ]
    }
   ],
   "source": [
    "# confusion matrix 확인\n",
    "from sklearn.metrics import confusion_matrix\n",
    "conf_matrix = confusion_matrix(y_te, pred_gnb)\n",
    "print(conf_matrix)"
   ]
  },
  {
   "cell_type": "code",
   "execution_count": 165,
   "id": "c52140de",
   "metadata": {},
   "outputs": [
    {
     "name": "stdout",
     "output_type": "stream",
     "text": [
      "              precision    recall  f1-score   support\n",
      "\n",
      "           0       0.89      1.00      0.94        16\n",
      "           1       1.00      0.86      0.92        21\n",
      "           2       0.89      1.00      0.94         8\n",
      "\n",
      "    accuracy                           0.93        45\n",
      "   macro avg       0.93      0.95      0.94        45\n",
      "weighted avg       0.94      0.93      0.93        45\n",
      "\n"
     ]
    }
   ],
   "source": [
    "# 분류 레포트 확인\n",
    "from sklearn.metrics import classification_report\n",
    "class_report = classification_report(y_te, pred_gnb)\n",
    "print(class_report)\n"
   ]
  },
  {
   "cell_type": "code",
   "execution_count": 166,
   "id": "8ab9e742",
   "metadata": {},
   "outputs": [],
   "source": [
    "## 5. 의사결정나무의 개념"
   ]
  },
  {
   "cell_type": "code",
   "execution_count": 170,
   "id": "384fa755",
   "metadata": {},
   "outputs": [
    {
     "data": {
      "text/html": [
       "<div>\n",
       "<style scoped>\n",
       "    .dataframe tbody tr th:only-of-type {\n",
       "        vertical-align: middle;\n",
       "    }\n",
       "\n",
       "    .dataframe tbody tr th {\n",
       "        vertical-align: top;\n",
       "    }\n",
       "\n",
       "    .dataframe thead th {\n",
       "        text-align: right;\n",
       "    }\n",
       "</style>\n",
       "<table border=\"1\" class=\"dataframe\">\n",
       "  <thead>\n",
       "    <tr style=\"text-align: right;\">\n",
       "      <th></th>\n",
       "      <th>Alcohol</th>\n",
       "      <th>Malic</th>\n",
       "      <th>Ash</th>\n",
       "      <th>Alcalinity</th>\n",
       "      <th>Magesium</th>\n",
       "      <th>Phenols</th>\n",
       "      <th>Flavanoids</th>\n",
       "      <th>Nonflavanoids</th>\n",
       "      <th>Proanthocyanins</th>\n",
       "      <th>Color</th>\n",
       "      <th>Hue</th>\n",
       "      <th>Dilution</th>\n",
       "      <th>Proline</th>\n",
       "      <th>class</th>\n",
       "    </tr>\n",
       "  </thead>\n",
       "  <tbody>\n",
       "    <tr>\n",
       "      <th>0</th>\n",
       "      <td>14.23</td>\n",
       "      <td>1.71</td>\n",
       "      <td>2.43</td>\n",
       "      <td>15.6</td>\n",
       "      <td>127</td>\n",
       "      <td>2.80</td>\n",
       "      <td>3.06</td>\n",
       "      <td>0.28</td>\n",
       "      <td>2.29</td>\n",
       "      <td>5.64</td>\n",
       "      <td>1.04</td>\n",
       "      <td>3.92</td>\n",
       "      <td>1065</td>\n",
       "      <td>0</td>\n",
       "    </tr>\n",
       "    <tr>\n",
       "      <th>1</th>\n",
       "      <td>13.20</td>\n",
       "      <td>1.78</td>\n",
       "      <td>2.14</td>\n",
       "      <td>11.2</td>\n",
       "      <td>100</td>\n",
       "      <td>2.65</td>\n",
       "      <td>2.76</td>\n",
       "      <td>0.26</td>\n",
       "      <td>1.28</td>\n",
       "      <td>4.38</td>\n",
       "      <td>1.05</td>\n",
       "      <td>3.40</td>\n",
       "      <td>1050</td>\n",
       "      <td>0</td>\n",
       "    </tr>\n",
       "    <tr>\n",
       "      <th>2</th>\n",
       "      <td>13.16</td>\n",
       "      <td>2.36</td>\n",
       "      <td>2.67</td>\n",
       "      <td>18.6</td>\n",
       "      <td>101</td>\n",
       "      <td>2.80</td>\n",
       "      <td>3.24</td>\n",
       "      <td>0.30</td>\n",
       "      <td>2.81</td>\n",
       "      <td>5.68</td>\n",
       "      <td>1.03</td>\n",
       "      <td>3.17</td>\n",
       "      <td>1185</td>\n",
       "      <td>0</td>\n",
       "    </tr>\n",
       "    <tr>\n",
       "      <th>3</th>\n",
       "      <td>14.37</td>\n",
       "      <td>1.95</td>\n",
       "      <td>2.50</td>\n",
       "      <td>16.8</td>\n",
       "      <td>113</td>\n",
       "      <td>3.85</td>\n",
       "      <td>3.49</td>\n",
       "      <td>0.24</td>\n",
       "      <td>2.18</td>\n",
       "      <td>7.80</td>\n",
       "      <td>0.86</td>\n",
       "      <td>3.45</td>\n",
       "      <td>1480</td>\n",
       "      <td>0</td>\n",
       "    </tr>\n",
       "    <tr>\n",
       "      <th>4</th>\n",
       "      <td>13.24</td>\n",
       "      <td>2.59</td>\n",
       "      <td>2.87</td>\n",
       "      <td>21.0</td>\n",
       "      <td>118</td>\n",
       "      <td>2.80</td>\n",
       "      <td>2.69</td>\n",
       "      <td>0.39</td>\n",
       "      <td>1.82</td>\n",
       "      <td>4.32</td>\n",
       "      <td>1.04</td>\n",
       "      <td>2.93</td>\n",
       "      <td>735</td>\n",
       "      <td>0</td>\n",
       "    </tr>\n",
       "    <tr>\n",
       "      <th>...</th>\n",
       "      <td>...</td>\n",
       "      <td>...</td>\n",
       "      <td>...</td>\n",
       "      <td>...</td>\n",
       "      <td>...</td>\n",
       "      <td>...</td>\n",
       "      <td>...</td>\n",
       "      <td>...</td>\n",
       "      <td>...</td>\n",
       "      <td>...</td>\n",
       "      <td>...</td>\n",
       "      <td>...</td>\n",
       "      <td>...</td>\n",
       "      <td>...</td>\n",
       "    </tr>\n",
       "    <tr>\n",
       "      <th>173</th>\n",
       "      <td>13.71</td>\n",
       "      <td>5.65</td>\n",
       "      <td>2.45</td>\n",
       "      <td>20.5</td>\n",
       "      <td>95</td>\n",
       "      <td>1.68</td>\n",
       "      <td>0.61</td>\n",
       "      <td>0.52</td>\n",
       "      <td>1.06</td>\n",
       "      <td>7.70</td>\n",
       "      <td>0.64</td>\n",
       "      <td>1.74</td>\n",
       "      <td>740</td>\n",
       "      <td>2</td>\n",
       "    </tr>\n",
       "    <tr>\n",
       "      <th>174</th>\n",
       "      <td>13.40</td>\n",
       "      <td>3.91</td>\n",
       "      <td>2.48</td>\n",
       "      <td>23.0</td>\n",
       "      <td>102</td>\n",
       "      <td>1.80</td>\n",
       "      <td>0.75</td>\n",
       "      <td>0.43</td>\n",
       "      <td>1.41</td>\n",
       "      <td>7.30</td>\n",
       "      <td>0.70</td>\n",
       "      <td>1.56</td>\n",
       "      <td>750</td>\n",
       "      <td>2</td>\n",
       "    </tr>\n",
       "    <tr>\n",
       "      <th>175</th>\n",
       "      <td>13.27</td>\n",
       "      <td>4.28</td>\n",
       "      <td>2.26</td>\n",
       "      <td>20.0</td>\n",
       "      <td>120</td>\n",
       "      <td>1.59</td>\n",
       "      <td>0.69</td>\n",
       "      <td>0.43</td>\n",
       "      <td>1.35</td>\n",
       "      <td>10.20</td>\n",
       "      <td>0.59</td>\n",
       "      <td>1.56</td>\n",
       "      <td>835</td>\n",
       "      <td>2</td>\n",
       "    </tr>\n",
       "    <tr>\n",
       "      <th>176</th>\n",
       "      <td>13.17</td>\n",
       "      <td>2.59</td>\n",
       "      <td>2.37</td>\n",
       "      <td>20.0</td>\n",
       "      <td>120</td>\n",
       "      <td>1.65</td>\n",
       "      <td>0.68</td>\n",
       "      <td>0.53</td>\n",
       "      <td>1.46</td>\n",
       "      <td>9.30</td>\n",
       "      <td>0.60</td>\n",
       "      <td>1.62</td>\n",
       "      <td>840</td>\n",
       "      <td>2</td>\n",
       "    </tr>\n",
       "    <tr>\n",
       "      <th>177</th>\n",
       "      <td>14.13</td>\n",
       "      <td>4.10</td>\n",
       "      <td>2.74</td>\n",
       "      <td>24.5</td>\n",
       "      <td>96</td>\n",
       "      <td>2.05</td>\n",
       "      <td>0.76</td>\n",
       "      <td>0.56</td>\n",
       "      <td>1.35</td>\n",
       "      <td>9.20</td>\n",
       "      <td>0.61</td>\n",
       "      <td>1.60</td>\n",
       "      <td>560</td>\n",
       "      <td>2</td>\n",
       "    </tr>\n",
       "  </tbody>\n",
       "</table>\n",
       "<p>178 rows × 14 columns</p>\n",
       "</div>"
      ],
      "text/plain": [
       "     Alcohol  Malic   Ash  Alcalinity  Magesium  Phenols  Flavanoids  \\\n",
       "0      14.23   1.71  2.43        15.6       127     2.80        3.06   \n",
       "1      13.20   1.78  2.14        11.2       100     2.65        2.76   \n",
       "2      13.16   2.36  2.67        18.6       101     2.80        3.24   \n",
       "3      14.37   1.95  2.50        16.8       113     3.85        3.49   \n",
       "4      13.24   2.59  2.87        21.0       118     2.80        2.69   \n",
       "..       ...    ...   ...         ...       ...      ...         ...   \n",
       "173    13.71   5.65  2.45        20.5        95     1.68        0.61   \n",
       "174    13.40   3.91  2.48        23.0       102     1.80        0.75   \n",
       "175    13.27   4.28  2.26        20.0       120     1.59        0.69   \n",
       "176    13.17   2.59  2.37        20.0       120     1.65        0.68   \n",
       "177    14.13   4.10  2.74        24.5        96     2.05        0.76   \n",
       "\n",
       "     Nonflavanoids  Proanthocyanins  Color   Hue  Dilution  Proline  class  \n",
       "0             0.28             2.29   5.64  1.04      3.92     1065      0  \n",
       "1             0.26             1.28   4.38  1.05      3.40     1050      0  \n",
       "2             0.30             2.81   5.68  1.03      3.17     1185      0  \n",
       "3             0.24             2.18   7.80  0.86      3.45     1480      0  \n",
       "4             0.39             1.82   4.32  1.04      2.93      735      0  \n",
       "..             ...              ...    ...   ...       ...      ...    ...  \n",
       "173           0.52             1.06   7.70  0.64      1.74      740      2  \n",
       "174           0.43             1.41   7.30  0.70      1.56      750      2  \n",
       "175           0.43             1.35  10.20  0.59      1.56      835      2  \n",
       "176           0.53             1.46   9.30  0.60      1.62      840      2  \n",
       "177           0.56             1.35   9.20  0.61      1.60      560      2  \n",
       "\n",
       "[178 rows x 14 columns]"
      ]
     },
     "execution_count": 170,
     "metadata": {},
     "output_type": "execute_result"
    }
   ],
   "source": [
    "import pandas as pd\n",
    "df = pd.read_csv(\"wine_data.csv\")\n",
    "df\n"
   ]
  },
  {
   "cell_type": "code",
   "execution_count": 171,
   "id": "3980bcc9",
   "metadata": {},
   "outputs": [],
   "source": [
    "features = ['Alcohol', 'Malic', 'Ash', 'Alcalinity', 'Magesium', 'Phenols', 'Flavanoids', \n",
    "'Nonflavanoids', 'Proanthocyanins', 'Color','Hue', 'Dilution', 'Proline']\n",
    "X = df[features]\n",
    "y = df['class']\n"
   ]
  },
  {
   "cell_type": "code",
   "execution_count": 172,
   "id": "ff331d20",
   "metadata": {},
   "outputs": [],
   "source": [
    "#데이터 표준화\n",
    "from sklearn.preprocessing import StandardScaler\n",
    "std_scale = StandardScaler()\n",
    "std_scale.fit(X_tn)\n",
    "X_tn_std = std_scale.transform(X_tn)\n",
    "X_te_std = std_scale.transform(X_te)\n"
   ]
  },
  {
   "cell_type": "code",
   "execution_count": 173,
   "id": "12122715",
   "metadata": {},
   "outputs": [
    {
     "data": {
      "text/plain": [
       "DecisionTreeClassifier(random_state=0)"
      ]
     },
     "execution_count": 173,
     "metadata": {},
     "output_type": "execute_result"
    }
   ],
   "source": [
    "# 의사결정나무 학습\n",
    "from sklearn import tree \n",
    "clf_tree = tree.DecisionTreeClassifier(random_state=0)\n",
    "clf_tree.fit(X_tn_std, y_tn)\n"
   ]
  },
  {
   "cell_type": "code",
   "execution_count": 174,
   "id": "f2f7cde7",
   "metadata": {},
   "outputs": [
    {
     "name": "stdout",
     "output_type": "stream",
     "text": [
      "[0 2 1 0 1 1 0 2 1 1 2 2 0 1 2 1 0 0 2 0 1 0 1 1 1 1 1 1 1 2 0 0 1 0 0 0 2\n",
      " 1 1 2 1 0 1 1 1]\n"
     ]
    }
   ],
   "source": [
    "#예측\n",
    "pred_tree = clf_tree.predict(X_te_std)\n",
    "print(pred_tree)"
   ]
  },
  {
   "cell_type": "code",
   "execution_count": 175,
   "id": "c1c19938",
   "metadata": {},
   "outputs": [
    {
     "name": "stdout",
     "output_type": "stream",
     "text": [
      "0.9333333333333333\n"
     ]
    }
   ],
   "source": [
    "#정확도\n",
    "from sklearn.metrics import accuracy_score\n",
    "accuracy = accuracy_score(y_te,pred_tree)\n",
    "print(accuracy)"
   ]
  },
  {
   "cell_type": "code",
   "execution_count": 176,
   "id": "5a10d8b6",
   "metadata": {},
   "outputs": [
    {
     "name": "stdout",
     "output_type": "stream",
     "text": [
      "0.9326599326599326\n"
     ]
    }
   ],
   "source": [
    "#정밀도\n",
    "from sklearn.metrics import precision_score\n",
    "precision = precision_score(y_te, pred_tree, average='macro')\n",
    "print(precision)"
   ]
  },
  {
   "cell_type": "code",
   "execution_count": 177,
   "id": "c4d24a28",
   "metadata": {},
   "outputs": [
    {
     "name": "stdout",
     "output_type": "stream",
     "text": [
      "0.9424603174603176\n"
     ]
    }
   ],
   "source": [
    "# 리콜\n",
    "from sklearn.metrics import recall_score\n",
    "recall = recall_score(y_te, pred_tree, average='macro')\n",
    "print(recall)"
   ]
  },
  {
   "cell_type": "code",
   "execution_count": 178,
   "id": "6c61aadd",
   "metadata": {},
   "outputs": [
    {
     "name": "stdout",
     "output_type": "stream",
     "text": [
      "0.9349141206870346\n"
     ]
    }
   ],
   "source": [
    "# f1 스코어\n",
    "from sklearn.metrics import f1_score\n",
    "f1 = f1_score(y_te, pred_tree, average='macro')\n",
    "print(f1)"
   ]
  },
  {
   "cell_type": "code",
   "execution_count": 179,
   "id": "355aa6f7",
   "metadata": {},
   "outputs": [
    {
     "name": "stdout",
     "output_type": "stream",
     "text": [
      "[[14  2  0]\n",
      " [ 0 20  1]\n",
      " [ 0  0  8]]\n"
     ]
    }
   ],
   "source": [
    "# confusion matrix 확인\n",
    "from sklearn.metrics import confusion_matrix\n",
    "conf_matrix = confusion_matrix(y_te, pred_tree)\n",
    "print(conf_matrix)"
   ]
  },
  {
   "cell_type": "code",
   "execution_count": 180,
   "id": "61065115",
   "metadata": {},
   "outputs": [
    {
     "name": "stdout",
     "output_type": "stream",
     "text": [
      "              precision    recall  f1-score   support\n",
      "\n",
      "           0       1.00      0.88      0.93        16\n",
      "           1       0.91      0.95      0.93        21\n",
      "           2       0.89      1.00      0.94         8\n",
      "\n",
      "    accuracy                           0.93        45\n",
      "   macro avg       0.93      0.94      0.93        45\n",
      "weighted avg       0.94      0.93      0.93        45\n",
      "\n"
     ]
    }
   ],
   "source": [
    "# 분류 레포트 확인\n",
    "from sklearn.metrics import classification_report\n",
    "class_report = classification_report(y_te, pred_tree)\n",
    "print(class_report)"
   ]
  },
  {
   "cell_type": "code",
   "execution_count": 181,
   "id": "a70a7c23",
   "metadata": {},
   "outputs": [],
   "source": [
    "## 6. 서포트 벡터머신"
   ]
  },
  {
   "cell_type": "code",
   "execution_count": 183,
   "id": "1e65bb68",
   "metadata": {},
   "outputs": [
    {
     "data": {
      "text/html": [
       "<div>\n",
       "<style scoped>\n",
       "    .dataframe tbody tr th:only-of-type {\n",
       "        vertical-align: middle;\n",
       "    }\n",
       "\n",
       "    .dataframe tbody tr th {\n",
       "        vertical-align: top;\n",
       "    }\n",
       "\n",
       "    .dataframe thead th {\n",
       "        text-align: right;\n",
       "    }\n",
       "</style>\n",
       "<table border=\"1\" class=\"dataframe\">\n",
       "  <thead>\n",
       "    <tr style=\"text-align: right;\">\n",
       "      <th></th>\n",
       "      <th>Alcohol</th>\n",
       "      <th>Malic</th>\n",
       "      <th>Ash</th>\n",
       "      <th>Alcalinity</th>\n",
       "      <th>Magesium</th>\n",
       "      <th>Phenols</th>\n",
       "      <th>Flavanoids</th>\n",
       "      <th>Nonflavanoids</th>\n",
       "      <th>Proanthocyanins</th>\n",
       "      <th>Color</th>\n",
       "      <th>Hue</th>\n",
       "      <th>Dilution</th>\n",
       "      <th>Proline</th>\n",
       "      <th>class</th>\n",
       "    </tr>\n",
       "  </thead>\n",
       "  <tbody>\n",
       "    <tr>\n",
       "      <th>0</th>\n",
       "      <td>14.23</td>\n",
       "      <td>1.71</td>\n",
       "      <td>2.43</td>\n",
       "      <td>15.6</td>\n",
       "      <td>127</td>\n",
       "      <td>2.80</td>\n",
       "      <td>3.06</td>\n",
       "      <td>0.28</td>\n",
       "      <td>2.29</td>\n",
       "      <td>5.64</td>\n",
       "      <td>1.04</td>\n",
       "      <td>3.92</td>\n",
       "      <td>1065</td>\n",
       "      <td>0</td>\n",
       "    </tr>\n",
       "    <tr>\n",
       "      <th>1</th>\n",
       "      <td>13.20</td>\n",
       "      <td>1.78</td>\n",
       "      <td>2.14</td>\n",
       "      <td>11.2</td>\n",
       "      <td>100</td>\n",
       "      <td>2.65</td>\n",
       "      <td>2.76</td>\n",
       "      <td>0.26</td>\n",
       "      <td>1.28</td>\n",
       "      <td>4.38</td>\n",
       "      <td>1.05</td>\n",
       "      <td>3.40</td>\n",
       "      <td>1050</td>\n",
       "      <td>0</td>\n",
       "    </tr>\n",
       "    <tr>\n",
       "      <th>2</th>\n",
       "      <td>13.16</td>\n",
       "      <td>2.36</td>\n",
       "      <td>2.67</td>\n",
       "      <td>18.6</td>\n",
       "      <td>101</td>\n",
       "      <td>2.80</td>\n",
       "      <td>3.24</td>\n",
       "      <td>0.30</td>\n",
       "      <td>2.81</td>\n",
       "      <td>5.68</td>\n",
       "      <td>1.03</td>\n",
       "      <td>3.17</td>\n",
       "      <td>1185</td>\n",
       "      <td>0</td>\n",
       "    </tr>\n",
       "    <tr>\n",
       "      <th>3</th>\n",
       "      <td>14.37</td>\n",
       "      <td>1.95</td>\n",
       "      <td>2.50</td>\n",
       "      <td>16.8</td>\n",
       "      <td>113</td>\n",
       "      <td>3.85</td>\n",
       "      <td>3.49</td>\n",
       "      <td>0.24</td>\n",
       "      <td>2.18</td>\n",
       "      <td>7.80</td>\n",
       "      <td>0.86</td>\n",
       "      <td>3.45</td>\n",
       "      <td>1480</td>\n",
       "      <td>0</td>\n",
       "    </tr>\n",
       "    <tr>\n",
       "      <th>4</th>\n",
       "      <td>13.24</td>\n",
       "      <td>2.59</td>\n",
       "      <td>2.87</td>\n",
       "      <td>21.0</td>\n",
       "      <td>118</td>\n",
       "      <td>2.80</td>\n",
       "      <td>2.69</td>\n",
       "      <td>0.39</td>\n",
       "      <td>1.82</td>\n",
       "      <td>4.32</td>\n",
       "      <td>1.04</td>\n",
       "      <td>2.93</td>\n",
       "      <td>735</td>\n",
       "      <td>0</td>\n",
       "    </tr>\n",
       "    <tr>\n",
       "      <th>...</th>\n",
       "      <td>...</td>\n",
       "      <td>...</td>\n",
       "      <td>...</td>\n",
       "      <td>...</td>\n",
       "      <td>...</td>\n",
       "      <td>...</td>\n",
       "      <td>...</td>\n",
       "      <td>...</td>\n",
       "      <td>...</td>\n",
       "      <td>...</td>\n",
       "      <td>...</td>\n",
       "      <td>...</td>\n",
       "      <td>...</td>\n",
       "      <td>...</td>\n",
       "    </tr>\n",
       "    <tr>\n",
       "      <th>173</th>\n",
       "      <td>13.71</td>\n",
       "      <td>5.65</td>\n",
       "      <td>2.45</td>\n",
       "      <td>20.5</td>\n",
       "      <td>95</td>\n",
       "      <td>1.68</td>\n",
       "      <td>0.61</td>\n",
       "      <td>0.52</td>\n",
       "      <td>1.06</td>\n",
       "      <td>7.70</td>\n",
       "      <td>0.64</td>\n",
       "      <td>1.74</td>\n",
       "      <td>740</td>\n",
       "      <td>2</td>\n",
       "    </tr>\n",
       "    <tr>\n",
       "      <th>174</th>\n",
       "      <td>13.40</td>\n",
       "      <td>3.91</td>\n",
       "      <td>2.48</td>\n",
       "      <td>23.0</td>\n",
       "      <td>102</td>\n",
       "      <td>1.80</td>\n",
       "      <td>0.75</td>\n",
       "      <td>0.43</td>\n",
       "      <td>1.41</td>\n",
       "      <td>7.30</td>\n",
       "      <td>0.70</td>\n",
       "      <td>1.56</td>\n",
       "      <td>750</td>\n",
       "      <td>2</td>\n",
       "    </tr>\n",
       "    <tr>\n",
       "      <th>175</th>\n",
       "      <td>13.27</td>\n",
       "      <td>4.28</td>\n",
       "      <td>2.26</td>\n",
       "      <td>20.0</td>\n",
       "      <td>120</td>\n",
       "      <td>1.59</td>\n",
       "      <td>0.69</td>\n",
       "      <td>0.43</td>\n",
       "      <td>1.35</td>\n",
       "      <td>10.20</td>\n",
       "      <td>0.59</td>\n",
       "      <td>1.56</td>\n",
       "      <td>835</td>\n",
       "      <td>2</td>\n",
       "    </tr>\n",
       "    <tr>\n",
       "      <th>176</th>\n",
       "      <td>13.17</td>\n",
       "      <td>2.59</td>\n",
       "      <td>2.37</td>\n",
       "      <td>20.0</td>\n",
       "      <td>120</td>\n",
       "      <td>1.65</td>\n",
       "      <td>0.68</td>\n",
       "      <td>0.53</td>\n",
       "      <td>1.46</td>\n",
       "      <td>9.30</td>\n",
       "      <td>0.60</td>\n",
       "      <td>1.62</td>\n",
       "      <td>840</td>\n",
       "      <td>2</td>\n",
       "    </tr>\n",
       "    <tr>\n",
       "      <th>177</th>\n",
       "      <td>14.13</td>\n",
       "      <td>4.10</td>\n",
       "      <td>2.74</td>\n",
       "      <td>24.5</td>\n",
       "      <td>96</td>\n",
       "      <td>2.05</td>\n",
       "      <td>0.76</td>\n",
       "      <td>0.56</td>\n",
       "      <td>1.35</td>\n",
       "      <td>9.20</td>\n",
       "      <td>0.61</td>\n",
       "      <td>1.60</td>\n",
       "      <td>560</td>\n",
       "      <td>2</td>\n",
       "    </tr>\n",
       "  </tbody>\n",
       "</table>\n",
       "<p>178 rows × 14 columns</p>\n",
       "</div>"
      ],
      "text/plain": [
       "     Alcohol  Malic   Ash  Alcalinity  Magesium  Phenols  Flavanoids  \\\n",
       "0      14.23   1.71  2.43        15.6       127     2.80        3.06   \n",
       "1      13.20   1.78  2.14        11.2       100     2.65        2.76   \n",
       "2      13.16   2.36  2.67        18.6       101     2.80        3.24   \n",
       "3      14.37   1.95  2.50        16.8       113     3.85        3.49   \n",
       "4      13.24   2.59  2.87        21.0       118     2.80        2.69   \n",
       "..       ...    ...   ...         ...       ...      ...         ...   \n",
       "173    13.71   5.65  2.45        20.5        95     1.68        0.61   \n",
       "174    13.40   3.91  2.48        23.0       102     1.80        0.75   \n",
       "175    13.27   4.28  2.26        20.0       120     1.59        0.69   \n",
       "176    13.17   2.59  2.37        20.0       120     1.65        0.68   \n",
       "177    14.13   4.10  2.74        24.5        96     2.05        0.76   \n",
       "\n",
       "     Nonflavanoids  Proanthocyanins  Color   Hue  Dilution  Proline  class  \n",
       "0             0.28             2.29   5.64  1.04      3.92     1065      0  \n",
       "1             0.26             1.28   4.38  1.05      3.40     1050      0  \n",
       "2             0.30             2.81   5.68  1.03      3.17     1185      0  \n",
       "3             0.24             2.18   7.80  0.86      3.45     1480      0  \n",
       "4             0.39             1.82   4.32  1.04      2.93      735      0  \n",
       "..             ...              ...    ...   ...       ...      ...    ...  \n",
       "173           0.52             1.06   7.70  0.64      1.74      740      2  \n",
       "174           0.43             1.41   7.30  0.70      1.56      750      2  \n",
       "175           0.43             1.35  10.20  0.59      1.56      835      2  \n",
       "176           0.53             1.46   9.30  0.60      1.62      840      2  \n",
       "177           0.56             1.35   9.20  0.61      1.60      560      2  \n",
       "\n",
       "[178 rows x 14 columns]"
      ]
     },
     "execution_count": 183,
     "metadata": {},
     "output_type": "execute_result"
    }
   ],
   "source": [
    "#데이터 불러오기\n",
    "import pandas as pd\n",
    "df = pd.read_csv(\"wine_data.csv\")\n",
    "df\n"
   ]
  },
  {
   "cell_type": "code",
   "execution_count": 184,
   "id": "4371ae41",
   "metadata": {},
   "outputs": [],
   "source": [
    "#피쳐, 타겟 데이터 지정\n",
    "features = ['Alcohol', 'Malic', 'Ash', 'Alcalinity', 'Magesium', 'Phenols', 'Flavanoids', \n",
    "'Nonflavanoids', 'Proanthocyanins', 'Color','Hue', 'Dilution', 'Proline']\n",
    "X = df[features]\n",
    "y = df['class']\n"
   ]
  },
  {
   "cell_type": "code",
   "execution_count": 185,
   "id": "a8a26f71",
   "metadata": {},
   "outputs": [],
   "source": [
    "# 트레이닝/테스트 데이터 분할\n",
    "from sklearn.model_selection import train_test_split\n",
    "X_tn, X_te, y_tn, y_te=train_test_split(X,y,random_state=0)\n"
   ]
  },
  {
   "cell_type": "code",
   "execution_count": 186,
   "id": "22515b0e",
   "metadata": {},
   "outputs": [],
   "source": [
    "#데이터 표준화\n",
    "from sklearn.preprocessing import StandardScaler\n",
    "std_scale = StandardScaler()\n",
    "std_scale.fit(X_tn)\n",
    "X_tn_std = std_scale.transform(X_tn)\n",
    "X_te_std = std_scale.transform(X_te)"
   ]
  },
  {
   "cell_type": "code",
   "execution_count": 187,
   "id": "8b33bcc3",
   "metadata": {},
   "outputs": [
    {
     "data": {
      "text/plain": [
       "SVC(kernel='linear', random_state=0)"
      ]
     },
     "execution_count": 187,
     "metadata": {},
     "output_type": "execute_result"
    }
   ],
   "source": [
    "# 서포트벡터머신 학습\n",
    "from sklearn import svm \n",
    "clf_svm_lr = svm.SVC(kernel='linear', random_state=0)\n",
    "clf_svm_lr.fit(X_tn_std, y_tn)"
   ]
  },
  {
   "cell_type": "code",
   "execution_count": 188,
   "id": "32b2e863",
   "metadata": {},
   "outputs": [
    {
     "name": "stdout",
     "output_type": "stream",
     "text": [
      "[0 2 1 0 1 1 0 2 1 1 2 2 0 1 2 1 0 0 1 0 1 0 0 1 1 1 1 1 1 2 0 0 1 0 0 0 2\n",
      " 1 1 2 0 0 1 1 1]\n"
     ]
    }
   ],
   "source": [
    "# 예측\n",
    "pred_svm = clf_svm_lr.predict(X_te_std)\n",
    "print(pred_svm)"
   ]
  },
  {
   "cell_type": "code",
   "execution_count": 189,
   "id": "3bf0b2a8",
   "metadata": {},
   "outputs": [
    {
     "name": "stdout",
     "output_type": "stream",
     "text": [
      "1.0\n"
     ]
    }
   ],
   "source": [
    "# 정확도(accuracy)\n",
    "from sklearn.metrics import accuracy_score\n",
    "accuracy = accuracy_score(y_te, pred_svm)\n",
    "print(accuracy)"
   ]
  },
  {
   "cell_type": "code",
   "execution_count": 190,
   "id": "031de129",
   "metadata": {},
   "outputs": [
    {
     "name": "stdout",
     "output_type": "stream",
     "text": [
      "1.0\n"
     ]
    }
   ],
   "source": [
    "# 정밀도(precision)\n",
    "from sklearn.metrics import precision_score\n",
    "precision = precision_score(y_te, pred_svm, average='macro')\n",
    "print(precision)"
   ]
  },
  {
   "cell_type": "code",
   "execution_count": 191,
   "id": "074faee9",
   "metadata": {},
   "outputs": [
    {
     "name": "stdout",
     "output_type": "stream",
     "text": [
      "1.0\n"
     ]
    }
   ],
   "source": [
    "# 리콜\n",
    "from sklearn.metrics import recall_score\n",
    "recall = recall_score(y_te, pred_svm, average='macro')\n",
    "print(recall)"
   ]
  },
  {
   "cell_type": "code",
   "execution_count": 192,
   "id": "08abdbc4",
   "metadata": {},
   "outputs": [
    {
     "name": "stdout",
     "output_type": "stream",
     "text": [
      "[[16  0  0]\n",
      " [ 0 21  0]\n",
      " [ 0  0  8]]\n"
     ]
    }
   ],
   "source": [
    "# confusion matrix 확인\n",
    "from sklearn.metrics import confusion_matrix\n",
    "conf_matrix = confusion_matrix(y_te, pred_svm)\n",
    "print(conf_matrix)"
   ]
  },
  {
   "cell_type": "code",
   "execution_count": 193,
   "id": "b90d9d87",
   "metadata": {},
   "outputs": [
    {
     "name": "stdout",
     "output_type": "stream",
     "text": [
      "              precision    recall  f1-score   support\n",
      "\n",
      "           0       1.00      1.00      1.00        16\n",
      "           1       1.00      1.00      1.00        21\n",
      "           2       1.00      1.00      1.00         8\n",
      "\n",
      "    accuracy                           1.00        45\n",
      "   macro avg       1.00      1.00      1.00        45\n",
      "weighted avg       1.00      1.00      1.00        45\n",
      "\n"
     ]
    }
   ],
   "source": [
    "# 분류 레포트 확인\n",
    "from sklearn.metrics import classification_report\n",
    "class_report = classification_report(y_te, pred_svm)\n",
    "print(class_report)\n"
   ]
  },
  {
   "cell_type": "code",
   "execution_count": null,
   "id": "d1af565a",
   "metadata": {},
   "outputs": [],
   "source": []
  }
 ],
 "metadata": {
  "kernelspec": {
   "display_name": "Python 3 (ipykernel)",
   "language": "python",
   "name": "python3"
  },
  "language_info": {
   "codemirror_mode": {
    "name": "ipython",
    "version": 3
   },
   "file_extension": ".py",
   "mimetype": "text/x-python",
   "name": "python",
   "nbconvert_exporter": "python",
   "pygments_lexer": "ipython3",
   "version": "3.9.12"
  }
 },
 "nbformat": 4,
 "nbformat_minor": 5
}
