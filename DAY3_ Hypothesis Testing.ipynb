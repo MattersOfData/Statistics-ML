{
 "cells": [
  {
   "cell_type": "markdown",
   "id": "34e92e9b",
   "metadata": {},
   "source": [
    "## 1. 두 집단 평균 차이 검정"
   ]
  },
  {
   "cell_type": "code",
   "execution_count": 21,
   "id": "442aae8f",
   "metadata": {},
   "outputs": [],
   "source": [
    "import numpy as np\n",
    "import pandas as pd\n",
    "import scipy as sp \n",
    "from scipy import stats\n",
    "import matplotlib.pyplot as plt\n",
    "\n",
    "##stats을 사용하기 위해서는 scipy import 필요 !\n",
    "## scipy : 통계 라이브러리 -> p밸류 값 구할수 있음"
   ]
  },
  {
   "cell_type": "code",
   "execution_count": 3,
   "id": "3116b697",
   "metadata": {},
   "outputs": [
    {
     "data": {
      "text/html": [
       "<div>\n",
       "<style scoped>\n",
       "    .dataframe tbody tr th:only-of-type {\n",
       "        vertical-align: middle;\n",
       "    }\n",
       "\n",
       "    .dataframe tbody tr th {\n",
       "        vertical-align: top;\n",
       "    }\n",
       "\n",
       "    .dataframe thead th {\n",
       "        text-align: right;\n",
       "    }\n",
       "</style>\n",
       "<table border=\"1\" class=\"dataframe\">\n",
       "  <thead>\n",
       "    <tr style=\"text-align: right;\">\n",
       "      <th></th>\n",
       "      <th>gender</th>\n",
       "      <th>race/ethnicity</th>\n",
       "      <th>parental level of education</th>\n",
       "      <th>lunch</th>\n",
       "      <th>test preparation course</th>\n",
       "      <th>math score</th>\n",
       "      <th>reading score</th>\n",
       "      <th>writing score</th>\n",
       "    </tr>\n",
       "  </thead>\n",
       "  <tbody>\n",
       "    <tr>\n",
       "      <th>0</th>\n",
       "      <td>female</td>\n",
       "      <td>group B</td>\n",
       "      <td>bachelor's degree</td>\n",
       "      <td>standard</td>\n",
       "      <td>none</td>\n",
       "      <td>72</td>\n",
       "      <td>72</td>\n",
       "      <td>74</td>\n",
       "    </tr>\n",
       "    <tr>\n",
       "      <th>1</th>\n",
       "      <td>female</td>\n",
       "      <td>group C</td>\n",
       "      <td>some college</td>\n",
       "      <td>standard</td>\n",
       "      <td>completed</td>\n",
       "      <td>69</td>\n",
       "      <td>90</td>\n",
       "      <td>88</td>\n",
       "    </tr>\n",
       "    <tr>\n",
       "      <th>2</th>\n",
       "      <td>female</td>\n",
       "      <td>group B</td>\n",
       "      <td>master's degree</td>\n",
       "      <td>standard</td>\n",
       "      <td>none</td>\n",
       "      <td>90</td>\n",
       "      <td>95</td>\n",
       "      <td>93</td>\n",
       "    </tr>\n",
       "    <tr>\n",
       "      <th>3</th>\n",
       "      <td>male</td>\n",
       "      <td>group A</td>\n",
       "      <td>associate's degree</td>\n",
       "      <td>free/reduced</td>\n",
       "      <td>none</td>\n",
       "      <td>47</td>\n",
       "      <td>57</td>\n",
       "      <td>44</td>\n",
       "    </tr>\n",
       "    <tr>\n",
       "      <th>4</th>\n",
       "      <td>male</td>\n",
       "      <td>group C</td>\n",
       "      <td>some college</td>\n",
       "      <td>standard</td>\n",
       "      <td>none</td>\n",
       "      <td>76</td>\n",
       "      <td>78</td>\n",
       "      <td>75</td>\n",
       "    </tr>\n",
       "    <tr>\n",
       "      <th>...</th>\n",
       "      <td>...</td>\n",
       "      <td>...</td>\n",
       "      <td>...</td>\n",
       "      <td>...</td>\n",
       "      <td>...</td>\n",
       "      <td>...</td>\n",
       "      <td>...</td>\n",
       "      <td>...</td>\n",
       "    </tr>\n",
       "    <tr>\n",
       "      <th>995</th>\n",
       "      <td>female</td>\n",
       "      <td>group E</td>\n",
       "      <td>master's degree</td>\n",
       "      <td>standard</td>\n",
       "      <td>completed</td>\n",
       "      <td>88</td>\n",
       "      <td>99</td>\n",
       "      <td>95</td>\n",
       "    </tr>\n",
       "    <tr>\n",
       "      <th>996</th>\n",
       "      <td>male</td>\n",
       "      <td>group C</td>\n",
       "      <td>high school</td>\n",
       "      <td>free/reduced</td>\n",
       "      <td>none</td>\n",
       "      <td>62</td>\n",
       "      <td>55</td>\n",
       "      <td>55</td>\n",
       "    </tr>\n",
       "    <tr>\n",
       "      <th>997</th>\n",
       "      <td>female</td>\n",
       "      <td>group C</td>\n",
       "      <td>high school</td>\n",
       "      <td>free/reduced</td>\n",
       "      <td>completed</td>\n",
       "      <td>59</td>\n",
       "      <td>71</td>\n",
       "      <td>65</td>\n",
       "    </tr>\n",
       "    <tr>\n",
       "      <th>998</th>\n",
       "      <td>female</td>\n",
       "      <td>group D</td>\n",
       "      <td>some college</td>\n",
       "      <td>standard</td>\n",
       "      <td>completed</td>\n",
       "      <td>68</td>\n",
       "      <td>78</td>\n",
       "      <td>77</td>\n",
       "    </tr>\n",
       "    <tr>\n",
       "      <th>999</th>\n",
       "      <td>female</td>\n",
       "      <td>group D</td>\n",
       "      <td>some college</td>\n",
       "      <td>free/reduced</td>\n",
       "      <td>none</td>\n",
       "      <td>77</td>\n",
       "      <td>86</td>\n",
       "      <td>86</td>\n",
       "    </tr>\n",
       "  </tbody>\n",
       "</table>\n",
       "<p>1000 rows × 8 columns</p>\n",
       "</div>"
      ],
      "text/plain": [
       "     gender race/ethnicity parental level of education         lunch  \\\n",
       "0    female        group B           bachelor's degree      standard   \n",
       "1    female        group C                some college      standard   \n",
       "2    female        group B             master's degree      standard   \n",
       "3      male        group A          associate's degree  free/reduced   \n",
       "4      male        group C                some college      standard   \n",
       "..      ...            ...                         ...           ...   \n",
       "995  female        group E             master's degree      standard   \n",
       "996    male        group C                 high school  free/reduced   \n",
       "997  female        group C                 high school  free/reduced   \n",
       "998  female        group D                some college      standard   \n",
       "999  female        group D                some college  free/reduced   \n",
       "\n",
       "    test preparation course  math score  reading score  writing score  \n",
       "0                      none          72             72             74  \n",
       "1                 completed          69             90             88  \n",
       "2                      none          90             95             93  \n",
       "3                      none          47             57             44  \n",
       "4                      none          76             78             75  \n",
       "..                      ...         ...            ...            ...  \n",
       "995               completed          88             99             95  \n",
       "996                    none          62             55             55  \n",
       "997               completed          59             71             65  \n",
       "998               completed          68             78             77  \n",
       "999                    none          77             86             86  \n",
       "\n",
       "[1000 rows x 8 columns]"
      ]
     },
     "execution_count": 3,
     "metadata": {},
     "output_type": "execute_result"
    }
   ],
   "source": [
    "df = pd.read_csv(\"StudentsPerformance.csv\")\n",
    "df"
   ]
  },
  {
   "cell_type": "code",
   "execution_count": 6,
   "id": "5a785da2",
   "metadata": {},
   "outputs": [
    {
     "data": {
      "text/plain": [
       "array(['group B', 'group C', 'group A', 'group D', 'group E'],\n",
       "      dtype=object)"
      ]
     },
     "execution_count": 6,
     "metadata": {},
     "output_type": "execute_result"
    }
   ],
   "source": [
    "df['race/ethnicity'].unique()#.tolist()"
   ]
  },
  {
   "cell_type": "code",
   "execution_count": 9,
   "id": "3ec6c82c",
   "metadata": {},
   "outputs": [],
   "source": [
    "df_A = df[df['race/ethnicity']=='group A']\n",
    "df_B = df[df['race/ethnicity']=='group B']\n",
    "df_C = df[df['race/ethnicity']=='group C']\n",
    "df_D = df[df['race/ethnicity']=='group D']\n",
    "df_E = df[df['race/ethnicity']=='group E']"
   ]
  },
  {
   "cell_type": "code",
   "execution_count": 10,
   "id": "6517945d",
   "metadata": {},
   "outputs": [
    {
     "data": {
      "text/html": [
       "<div>\n",
       "<style scoped>\n",
       "    .dataframe tbody tr th:only-of-type {\n",
       "        vertical-align: middle;\n",
       "    }\n",
       "\n",
       "    .dataframe tbody tr th {\n",
       "        vertical-align: top;\n",
       "    }\n",
       "\n",
       "    .dataframe thead th {\n",
       "        text-align: right;\n",
       "    }\n",
       "</style>\n",
       "<table border=\"1\" class=\"dataframe\">\n",
       "  <thead>\n",
       "    <tr style=\"text-align: right;\">\n",
       "      <th></th>\n",
       "      <th>gender</th>\n",
       "      <th>race/ethnicity</th>\n",
       "      <th>parental level of education</th>\n",
       "      <th>lunch</th>\n",
       "      <th>test preparation course</th>\n",
       "      <th>math score</th>\n",
       "      <th>reading score</th>\n",
       "      <th>writing score</th>\n",
       "    </tr>\n",
       "  </thead>\n",
       "  <tbody>\n",
       "    <tr>\n",
       "      <th>3</th>\n",
       "      <td>male</td>\n",
       "      <td>group A</td>\n",
       "      <td>associate's degree</td>\n",
       "      <td>free/reduced</td>\n",
       "      <td>none</td>\n",
       "      <td>47</td>\n",
       "      <td>57</td>\n",
       "      <td>44</td>\n",
       "    </tr>\n",
       "    <tr>\n",
       "      <th>13</th>\n",
       "      <td>male</td>\n",
       "      <td>group A</td>\n",
       "      <td>some college</td>\n",
       "      <td>standard</td>\n",
       "      <td>completed</td>\n",
       "      <td>78</td>\n",
       "      <td>72</td>\n",
       "      <td>70</td>\n",
       "    </tr>\n",
       "    <tr>\n",
       "      <th>14</th>\n",
       "      <td>female</td>\n",
       "      <td>group A</td>\n",
       "      <td>master's degree</td>\n",
       "      <td>standard</td>\n",
       "      <td>none</td>\n",
       "      <td>50</td>\n",
       "      <td>53</td>\n",
       "      <td>58</td>\n",
       "    </tr>\n",
       "    <tr>\n",
       "      <th>25</th>\n",
       "      <td>male</td>\n",
       "      <td>group A</td>\n",
       "      <td>master's degree</td>\n",
       "      <td>free/reduced</td>\n",
       "      <td>none</td>\n",
       "      <td>73</td>\n",
       "      <td>74</td>\n",
       "      <td>72</td>\n",
       "    </tr>\n",
       "    <tr>\n",
       "      <th>46</th>\n",
       "      <td>female</td>\n",
       "      <td>group A</td>\n",
       "      <td>associate's degree</td>\n",
       "      <td>standard</td>\n",
       "      <td>completed</td>\n",
       "      <td>55</td>\n",
       "      <td>65</td>\n",
       "      <td>62</td>\n",
       "    </tr>\n",
       "    <tr>\n",
       "      <th>...</th>\n",
       "      <td>...</td>\n",
       "      <td>...</td>\n",
       "      <td>...</td>\n",
       "      <td>...</td>\n",
       "      <td>...</td>\n",
       "      <td>...</td>\n",
       "      <td>...</td>\n",
       "      <td>...</td>\n",
       "    </tr>\n",
       "    <tr>\n",
       "      <th>974</th>\n",
       "      <td>female</td>\n",
       "      <td>group A</td>\n",
       "      <td>some college</td>\n",
       "      <td>standard</td>\n",
       "      <td>none</td>\n",
       "      <td>54</td>\n",
       "      <td>63</td>\n",
       "      <td>67</td>\n",
       "    </tr>\n",
       "    <tr>\n",
       "      <th>983</th>\n",
       "      <td>female</td>\n",
       "      <td>group A</td>\n",
       "      <td>some college</td>\n",
       "      <td>standard</td>\n",
       "      <td>completed</td>\n",
       "      <td>78</td>\n",
       "      <td>87</td>\n",
       "      <td>91</td>\n",
       "    </tr>\n",
       "    <tr>\n",
       "      <th>985</th>\n",
       "      <td>male</td>\n",
       "      <td>group A</td>\n",
       "      <td>high school</td>\n",
       "      <td>standard</td>\n",
       "      <td>none</td>\n",
       "      <td>57</td>\n",
       "      <td>51</td>\n",
       "      <td>54</td>\n",
       "    </tr>\n",
       "    <tr>\n",
       "      <th>988</th>\n",
       "      <td>female</td>\n",
       "      <td>group A</td>\n",
       "      <td>some high school</td>\n",
       "      <td>free/reduced</td>\n",
       "      <td>none</td>\n",
       "      <td>44</td>\n",
       "      <td>45</td>\n",
       "      <td>45</td>\n",
       "    </tr>\n",
       "    <tr>\n",
       "      <th>994</th>\n",
       "      <td>male</td>\n",
       "      <td>group A</td>\n",
       "      <td>high school</td>\n",
       "      <td>standard</td>\n",
       "      <td>none</td>\n",
       "      <td>63</td>\n",
       "      <td>63</td>\n",
       "      <td>62</td>\n",
       "    </tr>\n",
       "  </tbody>\n",
       "</table>\n",
       "<p>89 rows × 8 columns</p>\n",
       "</div>"
      ],
      "text/plain": [
       "     gender race/ethnicity parental level of education         lunch  \\\n",
       "3      male        group A          associate's degree  free/reduced   \n",
       "13     male        group A                some college      standard   \n",
       "14   female        group A             master's degree      standard   \n",
       "25     male        group A             master's degree  free/reduced   \n",
       "46   female        group A          associate's degree      standard   \n",
       "..      ...            ...                         ...           ...   \n",
       "974  female        group A                some college      standard   \n",
       "983  female        group A                some college      standard   \n",
       "985    male        group A                 high school      standard   \n",
       "988  female        group A            some high school  free/reduced   \n",
       "994    male        group A                 high school      standard   \n",
       "\n",
       "    test preparation course  math score  reading score  writing score  \n",
       "3                      none          47             57             44  \n",
       "13                completed          78             72             70  \n",
       "14                     none          50             53             58  \n",
       "25                     none          73             74             72  \n",
       "46                completed          55             65             62  \n",
       "..                      ...         ...            ...            ...  \n",
       "974                    none          54             63             67  \n",
       "983               completed          78             87             91  \n",
       "985                    none          57             51             54  \n",
       "988                    none          44             45             45  \n",
       "994                    none          63             63             62  \n",
       "\n",
       "[89 rows x 8 columns]"
      ]
     },
     "execution_count": 10,
     "metadata": {},
     "output_type": "execute_result"
    }
   ],
   "source": [
    "df_A"
   ]
  },
  {
   "cell_type": "code",
   "execution_count": 11,
   "id": "af07f718",
   "metadata": {},
   "outputs": [
    {
     "data": {
      "text/html": [
       "<div>\n",
       "<style scoped>\n",
       "    .dataframe tbody tr th:only-of-type {\n",
       "        vertical-align: middle;\n",
       "    }\n",
       "\n",
       "    .dataframe tbody tr th {\n",
       "        vertical-align: top;\n",
       "    }\n",
       "\n",
       "    .dataframe thead th {\n",
       "        text-align: right;\n",
       "    }\n",
       "</style>\n",
       "<table border=\"1\" class=\"dataframe\">\n",
       "  <thead>\n",
       "    <tr style=\"text-align: right;\">\n",
       "      <th></th>\n",
       "      <th>gender</th>\n",
       "      <th>race/ethnicity</th>\n",
       "      <th>parental level of education</th>\n",
       "      <th>lunch</th>\n",
       "      <th>test preparation course</th>\n",
       "      <th>math score</th>\n",
       "      <th>reading score</th>\n",
       "      <th>writing score</th>\n",
       "    </tr>\n",
       "  </thead>\n",
       "  <tbody>\n",
       "    <tr>\n",
       "      <th>0</th>\n",
       "      <td>female</td>\n",
       "      <td>group B</td>\n",
       "      <td>bachelor's degree</td>\n",
       "      <td>standard</td>\n",
       "      <td>none</td>\n",
       "      <td>72</td>\n",
       "      <td>72</td>\n",
       "      <td>74</td>\n",
       "    </tr>\n",
       "    <tr>\n",
       "      <th>2</th>\n",
       "      <td>female</td>\n",
       "      <td>group B</td>\n",
       "      <td>master's degree</td>\n",
       "      <td>standard</td>\n",
       "      <td>none</td>\n",
       "      <td>90</td>\n",
       "      <td>95</td>\n",
       "      <td>93</td>\n",
       "    </tr>\n",
       "    <tr>\n",
       "      <th>5</th>\n",
       "      <td>female</td>\n",
       "      <td>group B</td>\n",
       "      <td>associate's degree</td>\n",
       "      <td>standard</td>\n",
       "      <td>none</td>\n",
       "      <td>71</td>\n",
       "      <td>83</td>\n",
       "      <td>78</td>\n",
       "    </tr>\n",
       "    <tr>\n",
       "      <th>6</th>\n",
       "      <td>female</td>\n",
       "      <td>group B</td>\n",
       "      <td>some college</td>\n",
       "      <td>standard</td>\n",
       "      <td>completed</td>\n",
       "      <td>88</td>\n",
       "      <td>95</td>\n",
       "      <td>92</td>\n",
       "    </tr>\n",
       "    <tr>\n",
       "      <th>7</th>\n",
       "      <td>male</td>\n",
       "      <td>group B</td>\n",
       "      <td>some college</td>\n",
       "      <td>free/reduced</td>\n",
       "      <td>none</td>\n",
       "      <td>40</td>\n",
       "      <td>43</td>\n",
       "      <td>39</td>\n",
       "    </tr>\n",
       "    <tr>\n",
       "      <th>...</th>\n",
       "      <td>...</td>\n",
       "      <td>...</td>\n",
       "      <td>...</td>\n",
       "      <td>...</td>\n",
       "      <td>...</td>\n",
       "      <td>...</td>\n",
       "      <td>...</td>\n",
       "      <td>...</td>\n",
       "    </tr>\n",
       "    <tr>\n",
       "      <th>969</th>\n",
       "      <td>female</td>\n",
       "      <td>group B</td>\n",
       "      <td>bachelor's degree</td>\n",
       "      <td>standard</td>\n",
       "      <td>none</td>\n",
       "      <td>75</td>\n",
       "      <td>84</td>\n",
       "      <td>80</td>\n",
       "    </tr>\n",
       "    <tr>\n",
       "      <th>976</th>\n",
       "      <td>male</td>\n",
       "      <td>group B</td>\n",
       "      <td>some college</td>\n",
       "      <td>free/reduced</td>\n",
       "      <td>completed</td>\n",
       "      <td>60</td>\n",
       "      <td>62</td>\n",
       "      <td>60</td>\n",
       "    </tr>\n",
       "    <tr>\n",
       "      <th>980</th>\n",
       "      <td>female</td>\n",
       "      <td>group B</td>\n",
       "      <td>high school</td>\n",
       "      <td>free/reduced</td>\n",
       "      <td>none</td>\n",
       "      <td>8</td>\n",
       "      <td>24</td>\n",
       "      <td>23</td>\n",
       "    </tr>\n",
       "    <tr>\n",
       "      <th>982</th>\n",
       "      <td>male</td>\n",
       "      <td>group B</td>\n",
       "      <td>some high school</td>\n",
       "      <td>standard</td>\n",
       "      <td>completed</td>\n",
       "      <td>79</td>\n",
       "      <td>85</td>\n",
       "      <td>86</td>\n",
       "    </tr>\n",
       "    <tr>\n",
       "      <th>991</th>\n",
       "      <td>female</td>\n",
       "      <td>group B</td>\n",
       "      <td>some high school</td>\n",
       "      <td>standard</td>\n",
       "      <td>completed</td>\n",
       "      <td>65</td>\n",
       "      <td>82</td>\n",
       "      <td>78</td>\n",
       "    </tr>\n",
       "  </tbody>\n",
       "</table>\n",
       "<p>190 rows × 8 columns</p>\n",
       "</div>"
      ],
      "text/plain": [
       "     gender race/ethnicity parental level of education         lunch  \\\n",
       "0    female        group B           bachelor's degree      standard   \n",
       "2    female        group B             master's degree      standard   \n",
       "5    female        group B          associate's degree      standard   \n",
       "6    female        group B                some college      standard   \n",
       "7      male        group B                some college  free/reduced   \n",
       "..      ...            ...                         ...           ...   \n",
       "969  female        group B           bachelor's degree      standard   \n",
       "976    male        group B                some college  free/reduced   \n",
       "980  female        group B                 high school  free/reduced   \n",
       "982    male        group B            some high school      standard   \n",
       "991  female        group B            some high school      standard   \n",
       "\n",
       "    test preparation course  math score  reading score  writing score  \n",
       "0                      none          72             72             74  \n",
       "2                      none          90             95             93  \n",
       "5                      none          71             83             78  \n",
       "6                 completed          88             95             92  \n",
       "7                      none          40             43             39  \n",
       "..                      ...         ...            ...            ...  \n",
       "969                    none          75             84             80  \n",
       "976               completed          60             62             60  \n",
       "980                    none           8             24             23  \n",
       "982               completed          79             85             86  \n",
       "991               completed          65             82             78  \n",
       "\n",
       "[190 rows x 8 columns]"
      ]
     },
     "execution_count": 11,
     "metadata": {},
     "output_type": "execute_result"
    }
   ],
   "source": [
    "df_B"
   ]
  },
  {
   "cell_type": "code",
   "execution_count": 12,
   "id": "1c7cf063",
   "metadata": {},
   "outputs": [],
   "source": [
    "# 두 집단의 수학점수 차이\n",
    "df_A_math = df_A['math score']\n",
    "df_B_math = df_B['math score']"
   ]
  },
  {
   "cell_type": "code",
   "execution_count": 17,
   "id": "9763063d",
   "metadata": {},
   "outputs": [
    {
     "name": "stdout",
     "output_type": "stream",
     "text": [
      "61.62921348314607\n",
      "208.54791061734636\n",
      "89\n"
     ]
    }
   ],
   "source": [
    "# A집단 수학점수 평균\n",
    "df_A_mean = np.mean(df_A_math)\n",
    "print(df_A_mean)\n",
    "\n",
    "# A집단 수학점수 분산\n",
    "df_A_var = np.std(df_A_math)**2\n",
    "print(df_A_var)\n",
    "\n",
    "# A집단의 수\n",
    "n1 = len(df_A_math)\n",
    "print(n1)"
   ]
  },
  {
   "cell_type": "code",
   "execution_count": 18,
   "id": "7e5aed32",
   "metadata": {},
   "outputs": [
    {
     "name": "stdout",
     "output_type": "stream",
     "text": [
      "63.45263157894737\n",
      "238.00565096952914\n",
      "190\n"
     ]
    }
   ],
   "source": [
    "# B집단 수학점수 평균\n",
    "df_B_mean= np.mean(df_B_math)\n",
    "print(df_B_mean)\n",
    "\n",
    "# B 집단 수학점수 분산\n",
    "df_B_var = np.std(df_B_math)**2\n",
    "print(df_B_var)\n",
    "\n",
    "# B집단의 수\n",
    "n2 = len(df_B_math)\n",
    "print(n2)"
   ]
  },
  {
   "cell_type": "code",
   "execution_count": 19,
   "id": "84d294ba",
   "metadata": {},
   "outputs": [
    {
     "name": "stdout",
     "output_type": "stream",
     "text": [
      "1.8962848603648554\n"
     ]
    }
   ],
   "source": [
    "# 분포 전체\n",
    "s = ((df_A_var/n1)+ (df_B_var/n2))**0.5\n",
    "print(s)"
   ]
  },
  {
   "cell_type": "code",
   "execution_count": 20,
   "id": "a3ce2cd3",
   "metadata": {},
   "outputs": [
    {
     "name": "stdout",
     "output_type": "stream",
     "text": [
      "0.9615739353898896\n"
     ]
    }
   ],
   "source": [
    "# Z 값(적분값 = 넓이)\n",
    "z_value = (df_B_mean - df_A_mean)/s\n",
    "print(z_value)"
   ]
  },
  {
   "cell_type": "code",
   "execution_count": 23,
   "id": "20d7f008",
   "metadata": {},
   "outputs": [
    {
     "data": {
      "text/plain": [
       "0.16813183477339466"
      ]
     },
     "execution_count": 23,
     "metadata": {},
     "output_type": "execute_result"
    }
   ],
   "source": [
    "# p-value \n",
    "z_dist = stats.norm(0,1) # 평균=0, 분산 = 1인 정규분포\n",
    "p_value = 1- z_dist.cdf(z_value) # 확률 전체 합= 1\n",
    "p_value\n",
    "\n",
    "## p_value 가 0.05보다 크기 때문에 두 집단간의 차이 없음 ! (H0 채택)\n",
    "## p 밸류가 낮을 수록(p_value<0.05) H1(내 가설) 채택할 확률이 높아짐 !\n",
    "\n",
    "### cdf(cumulative distribution function) = 누적분포 함수 "
   ]
  },
  {
   "attachments": {
    "image.png": {
     "image/png": "[encoded data removed]"
    }
   },
   "cell_type": "markdown",
   "id": "91816a8f",
   "metadata": {},
   "source": [
    "![image.png](attachment:image.png)"
   ]
  },
  {
   "cell_type": "markdown",
   "id": "bbb656a7",
   "metadata": {},
   "source": [
    "## 2. 세 집단 평균차이 검정"
   ]
  },
  {
   "cell_type": "code",
   "execution_count": 24,
   "id": "891169bf",
   "metadata": {},
   "outputs": [],
   "source": [
    "df_A_math = df_A['math score']\n",
    "df_B_math = df_B['math score']\n",
    "df_C_math = df_C['math score']\n",
    "df_D_math = df_D['math score']\n",
    "df_E_math = df_E['math score']"
   ]
  },
  {
   "cell_type": "code",
   "execution_count": 25,
   "id": "fa5bab3b",
   "metadata": {},
   "outputs": [
    {
     "name": "stdout",
     "output_type": "stream",
     "text": [
      "검정통계량: 0.991736114025116, p-value: 0.8545348644256592\n",
      "검정통계량: 0.980807363986969, p-value: 0.010394944809377193\n",
      "검정통계량: 0.9891065359115601, p-value: 0.017411569133400917\n",
      "검정통계량: 0.9896672964096069, p-value: 0.05927419662475586\n",
      "검정통계량: 0.9770451784133911, p-value: 0.01849539391696453\n"
     ]
    }
   ],
   "source": [
    "# 정규성 검정 (shapiro)\n",
    "test_stat, p = stats.shapiro(df_A_math)\n",
    "print(\"검정통계량: {}, p-value: {}\".format(test_stat,p))\n",
    "\n",
    "test_stat, p = stats.shapiro(df_B_math)\n",
    "print(\"검정통계량: {}, p-value: {}\".format(test_stat,p))\n",
    "\n",
    "test_stat, p = stats.shapiro(df_C_math)\n",
    "print(\"검정통계량: {}, p-value: {}\".format(test_stat,p))\n",
    "\n",
    "test_stat, p = stats.shapiro(df_D_math)\n",
    "print(\"검정통계량: {}, p-value: {}\".format(test_stat,p))\n",
    "\n",
    "test_stat, p = stats.shapiro(df_E_math)\n",
    "print(\"검정통계량: {}, p-value: {}\".format(test_stat,p))"
   ]
  },
  {
   "cell_type": "code",
   "execution_count": 26,
   "id": "4ffb0b12",
   "metadata": {},
   "outputs": [
    {
     "data": {
      "text/plain": [
       "BartlettResult(statistic=4.075678014368108, pvalue=0.39586081869788264)"
      ]
     },
     "execution_count": 26,
     "metadata": {},
     "output_type": "execute_result"
    }
   ],
   "source": [
    "# 분산 동질성 검정(bartlett)\n",
    "stats.bartlett(df_A_math,df_B_math, df_C_math, df_D_math, df_E_math)"
   ]
  },
  {
   "cell_type": "code",
   "execution_count": 27,
   "id": "f517f14a",
   "metadata": {},
   "outputs": [
    {
     "name": "stdout",
     "output_type": "stream",
     "text": [
      "F-통계량 : 14.593885166332635\n",
      "p-value : 1.3732194030370688e-11\n"
     ]
    }
   ],
   "source": [
    "# ANOVA 테스트\n",
    "f_val, p_val= stats.f_oneway(df_A_math,df_B_math, df_C_math, df_D_math, df_E_math)\n",
    "print('F-통계량 :', f_val)\n",
    "print('p-value :', p_val)"
   ]
  },
  {
   "cell_type": "code",
   "execution_count": 28,
   "id": "67a1c513",
   "metadata": {},
   "outputs": [
    {
     "name": "stdout",
     "output_type": "stream",
     "text": [
      "F-통계량 : 57.079329705742886\n",
      "p-value : 1.1906568165839682e-11\n"
     ]
    }
   ],
   "source": [
    "# kruskal - Wallis 테스트\n",
    "f_val, p_val= stats.kruskal(df_A_math,df_B_math, df_C_math, df_D_math, df_E_math)\n",
    "print('F-통계량 :', f_val)\n",
    "print('p-value :', p_val)"
   ]
  },
  {
   "cell_type": "markdown",
   "id": "ddf70e7f",
   "metadata": {},
   "source": [
    "## 3.분할표를 활용한 연관성 분석"
   ]
  },
  {
   "cell_type": "code",
   "execution_count": 29,
   "id": "e0f60272",
   "metadata": {},
   "outputs": [
    {
     "data": {
      "text/plain": [
       "['none', 'completed']"
      ]
     },
     "execution_count": 29,
     "metadata": {},
     "output_type": "execute_result"
    }
   ],
   "source": [
    "# test preparation course 값 확인\n",
    "df['test preparation course'].unique().tolist()"
   ]
  },
  {
   "cell_type": "code",
   "execution_count": 30,
   "id": "7fa5d27d",
   "metadata": {},
   "outputs": [
    {
     "data": {
      "text/plain": [
       "['female', 'male']"
      ]
     },
     "execution_count": 30,
     "metadata": {},
     "output_type": "execute_result"
    }
   ],
   "source": [
    "# getnder 값 확인\n",
    "df['gender'].unique().tolist()"
   ]
  },
  {
   "cell_type": "code",
   "execution_count": 31,
   "id": "57889731",
   "metadata": {},
   "outputs": [],
   "source": [
    "none = df['test preparation course']=='none' # 수업 수강안함\n",
    "completed = df['test preparation course'] == 'completed' # 수업 수강함\n",
    "female = df['gender'] =='female'\n",
    "male = df['gender'] =='male'"
   ]
  },
  {
   "cell_type": "code",
   "execution_count": 32,
   "id": "8b03238b",
   "metadata": {},
   "outputs": [],
   "source": [
    "none_f = len(df[none & female])\n",
    "none_m = len(df[none & male])\n",
    "com_f = len(df[completed & female])\n",
    "com_m = len(df[completed & male])"
   ]
  },
  {
   "cell_type": "code",
   "execution_count": 33,
   "id": "05e73824",
   "metadata": {},
   "outputs": [
    {
     "name": "stdout",
     "output_type": "stream",
     "text": [
      "Test Stastic: 0.015529201882465888\n",
      "p-value: 0.9008273880804724\n",
      "Degree of Freedom:1\n",
      "[[332.556 309.444]\n",
      " [185.444 172.556]]\n"
     ]
    }
   ],
   "source": [
    "obs = np.array([[none_f, none_m], [com_f, com_m]]) # observation = obs, array 함수 = 행렬 생성 함수\n",
    "chi2, p, d, expected = sp.stats.chi2_contingency(obs)\n",
    "# chip2 = 카이제곱, p = p-value, expected =  확률, d = 자유도, contingency = 4개의 테이블 의미\n",
    "msg = 'Test Stastic: {}\\np-value: {}\\nDegree of Freedom:{}'\n",
    "print(msg.format(chi2, p, d))\n",
    "print(expected) \n",
    "\n",
    "# p-value 가 큼 -> H0 채택(성별과 사전 이수 과목 수강에는 연관성이 없다)"
   ]
  }
 ],
 "metadata": {
  "kernelspec": {
   "display_name": "Python 3 (ipykernel)",
   "language": "python",
   "name": "python3"
  },
  "language_info": {
   "codemirror_mode": {
    "name": "ipython",
    "version": 3
   },
   "file_extension": ".py",
   "mimetype": "text/x-python",
   "name": "python",
   "nbconvert_exporter": "python",
   "pygments_lexer": "ipython3",
   "version": "3.9.12"
  }
 },
 "nbformat": 4,
 "nbformat_minor": 5
}
